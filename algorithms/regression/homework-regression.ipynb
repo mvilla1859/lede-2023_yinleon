{
 "cells": [
  {
   "cell_type": "markdown",
   "metadata": {},
   "source": [
    "# Homework: Regression\n",
    "\n",
    "This homework is an adaptation of a take-home test for data journalists applying to work at The Markup.\n",
    "\n",
    "Follow the scenario, and answer the questions. Files are available in `data_in/`."
   ]
  },
  {
   "cell_type": "code",
   "execution_count": 1,
   "metadata": {},
   "outputs": [],
   "source": [
    "%matplotlib inline"
   ]
  },
  {
   "cell_type": "markdown",
   "metadata": {},
   "source": [
    "### 1. You've filed a public records request with the agency for the risk scores and associated demographic data. They have responded with the first file, data.pdf. I'd like you to write out a plan for extracting this data for your analysis."
   ]
  },
  {
   "cell_type": "markdown",
   "metadata": {},
   "source": [
    "### 2. You've succeeded in getting the underlying data from the PDF. Now you have the next two files: scores.csv and demographics.csv. I would like you to join the two files by the id field in each so you can continue your analysis. You should end up with a combined CSV with columns for id, score, white, minority and median_income."
   ]
  },
  {
   "cell_type": "code",
   "execution_count": 2,
   "metadata": {},
   "outputs": [],
   "source": [
    "demographics_input = 'data_in/demographics.csv'\n",
    "scores_input = 'data_in/scores.csv'"
   ]
  },
  {
   "cell_type": "markdown",
   "metadata": {},
   "source": [
    "### 3a. Use the data in demographics.csv to run a linear regression or a series of regressions to see if your hypothesis that the the score is biased is correct. You should compare the score field with some combination of the white, minority and median_income fields."
   ]
  },
  {
   "cell_type": "markdown",
   "metadata": {},
   "source": [
    "### 3b. Write a paragraph discussing what the results of your analysis would mean for the agency using the score."
   ]
  },
  {
   "cell_type": "markdown",
   "metadata": {},
   "source": [
    "### 3c. You recieve documentation from a FOIA that provides a hierarchy for risk scores. Score above 6 are considered \"high risk.\" With this in mind, create a new boolean column called `is_high_risk` and run a logistic regression and interpret the results"
   ]
  },
  {
   "cell_type": "code",
   "execution_count": 3,
   "metadata": {},
   "outputs": [],
   "source": [
    "import statsmodels.formula.api as smf"
   ]
  },
  {
   "cell_type": "code",
   "execution_count": null,
   "metadata": {},
   "outputs": [],
   "source": []
  }
 ],
 "metadata": {
  "kernelspec": {
   "display_name": "Python 3",
   "language": "python",
   "name": "python3"
  },
  "language_info": {
   "codemirror_mode": {
    "name": "ipython",
    "version": 3
   },
   "file_extension": ".py",
   "mimetype": "text/x-python",
   "name": "python",
   "nbconvert_exporter": "python",
   "pygments_lexer": "ipython3",
   "version": "3.7.3"
  }
 },
 "nbformat": 4,
 "nbformat_minor": 4
}
