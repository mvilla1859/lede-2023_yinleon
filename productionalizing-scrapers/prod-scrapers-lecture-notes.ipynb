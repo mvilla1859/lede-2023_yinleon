{
 "cells": [
  {
   "cell_type": "markdown",
   "id": "7c5fb1c4",
   "metadata": {},
   "source": [
    "# Today's theme is Failiure\n"
   ]
  },
  {
   "cell_type": "markdown",
   "id": "55a239e6",
   "metadata": {},
   "source": [
    "# How To Debug Scapers: Browser Automation"
   ]
  },
  {
   "cell_type": "markdown",
   "id": "95dca481",
   "metadata": {},
   "source": [
    "## 1. Spot check the results\n",
    "\n",
    "Manually inspect the data you just collected. Does it look like what you expect?\n",
    "\n",
    "Let's look at the first and last page of Zillow that we collected."
   ]
  },
  {
   "cell_type": "markdown",
   "id": "e02fb1f7",
   "metadata": {},
   "source": [
    "## 2. Can't find an element\n",
    "\n",
    "Maybe something hasn't loaded yet. If that is the case, you can wait for it to show up.\n",
    "\n",
    "See the example in the [Inspect Element tutorial](https://inspectelement.org/browser_automation.html#step-3-finding-elements-on-page-and-interacting-with-them)."
   ]
  },
  {
   "cell_type": "code",
   "execution_count": null,
   "id": "be301d7f",
   "metadata": {},
   "outputs": [],
   "source": [
    "from selenium.webdriver.support.ui import WebDriverWait\n",
    "from selenium.webdriver.support import expected_conditions as EC\n",
    "\n",
    "# Wait up to 20 seconds before we proceed to `find_element`.\n",
    "X_seconds = 20\n",
    "wait = WebDriverWait(driver, timeout = X_seconds)\n",
    "wait.until(EC.visibility_of_element_located(\n",
    "    (By.CSS_SELECTOR, '[data-e2e=\"modal-close-inner-button\"]'))\n",
    ")\n",
    "\n",
    "# this line will only execute whenever the element was found (or after 20 seconds it it wasn't)\n",
    "close_button = driver.find_element(By.CSS_SELECTOR, '[data-e2e=\"modal-close-inner-button\"]')\n",
    "close_button"
   ]
  },
  {
   "cell_type": "markdown",
   "id": "a476bc25",
   "metadata": {},
   "source": [
    "## 3. Look to known issues\n",
    "\n",
    "For example, a capcha, or an empty result. \n",
    "- Wait to see if these signs show up.\n",
    "- Intervene as necessary."
   ]
  },
  {
   "cell_type": "markdown",
   "id": "fe9abee6",
   "metadata": {},
   "source": [
    "## Debugging APIs"
   ]
  },
  {
   "cell_type": "markdown",
   "id": "e8b8182e",
   "metadata": {},
   "source": [
    "## 1. Listen to status codes\n",
    "The status code will tell you if your API calls are successful, and whether you crashed a server.\n",
    "\n",
    "Intervene as necessary. Also place periodic sleeps."
   ]
  },
  {
   "cell_type": "markdown",
   "id": "d6cae300",
   "metadata": {},
   "source": [
    "## 2. Spotcheck\n",
    "\n",
    "Open the JSON and make sure it looks like what you expect."
   ]
  },
  {
   "cell_type": "markdown",
   "id": "dbf1cb16",
   "metadata": {},
   "source": [
    "## 3. Check for known keys\n",
    "\n",
    "Programmatically check if the `key` you're expecting is present."
   ]
  },
  {
   "cell_type": "markdown",
   "id": "a0771a9b",
   "metadata": {},
   "source": [
    "# General notes"
   ]
  },
  {
   "cell_type": "markdown",
   "id": "21ddd4fc",
   "metadata": {},
   "source": [
    "## Summarize the data\n",
    "Check the number of rows per day. This is similar to a dashboard"
   ]
  },
  {
   "cell_type": "markdown",
   "id": "3ab74ac4",
   "metadata": {},
   "source": [
    "## Catch and handle expections\n",
    "\n",
    "Monitor the scraper to known issues. Determine automated answers to those issues.\n",
    "\n",
    "Have you used `try` and `except` phrases in Python? Read more about that [here](https://pythonbasics.org/try-except/)."
   ]
  },
  {
   "cell_type": "code",
   "execution_count": 10,
   "id": "7a990167",
   "metadata": {},
   "outputs": [
    {
     "name": "stdout",
     "output_type": "stream",
     "text": [
      "Wrong \n"
     ]
    }
   ],
   "source": [
    "try:\n",
    "    assert(2 == 3)\n",
    "except Exception as e:\n",
    "    print(f\"Wrong {e}\")"
   ]
  },
  {
   "cell_type": "markdown",
   "id": "f757cc96",
   "metadata": {},
   "source": [
    "## Keep a log\n",
    "\n",
    "Get familiar with a [log file](https://realpython.com/python-logging/). This is basically a place to store `print` statements.\n",
    "Read more here.\n",
    "\n",
    "For a quick version: check the last time a directory was modified."
   ]
  },
  {
   "cell_type": "markdown",
   "id": "2b9decd2",
   "metadata": {},
   "source": [
    "# Productionalizing Scrapers\n",
    "\n",
    "See more from [this presentation](https://docs.google.com/presentation/d/1K5ttTgP1f6ghL06kj6QqyqsGccU_Ttxh1otdx5wWYGo/edit#slide=id.p).\n",
    "\n",
    "Simple tips:\n",
    "1. Don't repeat work\n",
    "     - Structured naming system for outputs, check if it exists first.\n",
    "2. Break up the work. Make the scraper as simple as possible.\n",
    "For example, a scraper handles one city in Zillow.\n",
    "    - Paginate, save results. That's all\n",
    "    - Another scraper takes the saved HTML, and parses it and inserts it into a database.\n",
    "3. Keep a schedule.\n",
    "    - Use `cron` to schedule jobs locally. For example, cron allows an hourly job or one that runs every day at 4:30pm. Read [more](https://ostechnix.com/a-beginners-guide-to-cron-jobs/).\n",
    "    - Other tools exist to do this on the cloud.\n",
    "4. Keep tabs on inputs with a TODO list.\n",
    "    - Use a CSV if you know what you want.\n",
    "    - Use AWS SQS (similar to a commercial kitchen's ticket system). My fave!\n",
    "5. Can you scale up?\n",
    "    - If scrapers are simple, it's easy to parallelize them.\n",
    "    - If local: use async computing or `Multiprocessing`.\n"
   ]
  },
  {
   "cell_type": "markdown",
   "id": "eef203e1",
   "metadata": {},
   "source": [
    "# Tools\n",
    "- cron: schedule scripts and scrapers on a local machine.\n",
    "- htop: view your computer's resources. For example, how many CPUs are being used and how much memory used.\n",
    "- multiprocessing"
   ]
  },
  {
   "cell_type": "markdown",
   "id": "85795023",
   "metadata": {},
   "source": [
    "### Multiprocessing\n",
    "Check this [gist](https://gist.github.com/yinleon/8b7555afbbeed47e439dbd2364b8d404)."
   ]
  },
  {
   "cell_type": "code",
   "execution_count": 12,
   "id": "9b135b2f",
   "metadata": {},
   "outputs": [],
   "source": [
    "import time\n",
    "from multiprocessing import Pool"
   ]
  },
  {
   "cell_type": "code",
   "execution_count": 20,
   "id": "83755ea0",
   "metadata": {},
   "outputs": [],
   "source": [
    "def example_function(n):\n",
    "    \"\"\"Sleeps for 5 seconds with an arbitrary input\"\"\"\n",
    "    time.sleep(5)\n",
    "    print(n)\n",
    "    return 1"
   ]
  },
  {
   "cell_type": "code",
   "execution_count": 14,
   "id": "abca5c6a",
   "metadata": {},
   "outputs": [],
   "source": [
    "ex_inputs = list(range(30))"
   ]
  },
  {
   "cell_type": "code",
   "execution_count": 21,
   "id": "77209ac7",
   "metadata": {},
   "outputs": [
    {
     "name": "stdout",
     "output_type": "stream",
     "text": [
      "2\n",
      "1\n",
      "6\n",
      "3\n",
      "4\n",
      "5\n",
      "7\n",
      "0\n",
      "8\n",
      "11\n",
      "10\n",
      "9\n",
      "12\n",
      "13\n",
      "14\n",
      "15\n",
      "17\n",
      "16\n",
      "18\n",
      "20\n",
      "21\n",
      "19\n",
      "23\n",
      "22\n",
      "24\n",
      "25\n",
      "27\n",
      "29\n",
      "28\n",
      "26\n"
     ]
    }
   ],
   "source": [
    "data = []\n",
    "with Pool(processes=8) as pool:\n",
    "    for record in pool.imap_unordered(example_function, ex_inputs):\n",
    "        data.append(record)"
   ]
  },
  {
   "cell_type": "markdown",
   "id": "f1ca1184",
   "metadata": {},
   "source": [
    "Notice that order doesn't matter here"
   ]
  },
  {
   "cell_type": "code",
   "execution_count": null,
   "id": "6e19c732",
   "metadata": {},
   "outputs": [],
   "source": [
    " "
   ]
  }
 ],
 "metadata": {
  "kernelspec": {
   "display_name": "Python 3",
   "language": "python",
   "name": "python3"
  },
  "language_info": {
   "codemirror_mode": {
    "name": "ipython",
    "version": 3
   },
   "file_extension": ".py",
   "mimetype": "text/x-python",
   "name": "python",
   "nbconvert_exporter": "python",
   "pygments_lexer": "ipython3",
   "version": "3.7.3"
  }
 },
 "nbformat": 4,
 "nbformat_minor": 5
}
