{
 "cells": [
  {
   "cell_type": "markdown",
   "id": "e7398c54",
   "metadata": {},
   "source": [
    "# Homework - Finding APIs\n",
    "\n",
    "In this homework we're going to reverse-engineer [Airbnb](https://en.wikipedia.org/wiki/Airbnb)'s interactive tool to estimate the potential earnings by hosting.\n",
    "\n",
    "You can read the [press release](https://news.airbnb.com/interactive-tool-estimates-potential-monthly-host-earnings-on-airbnb/) for the tool, and view the tool on [their website](https://www.airbnb.com/host/homes?room_type=ENTIRE_HOME)."
   ]
  },
  {
   "cell_type": "markdown",
   "id": "781cef69",
   "metadata": {},
   "source": [
    "## Getting started\n",
    "\n",
    "As a reminder, you can follow along to the basic steps to do this from the [tutorial we went over during class](https://inspectelement.org/apis.html#tutorial)."
   ]
  },
  {
   "cell_type": "markdown",
   "id": "b8fbc2a4",
   "metadata": {},
   "source": [
    "### 0) Go to the website, and open the developer tools.\n",
    "\n",
    "As a reminder, the website we'll be inspecting today is here:\n",
    "https://www.airbnb.com/host/homes?room_type=ENTIRE_HOME\n",
    "\n",
    "Visit that link, and open up the developer tools (see step 1 in the tutorial)."
   ]
  },
  {
   "cell_type": "markdown",
   "id": "4c88963a",
   "metadata": {},
   "source": [
    "### 1) Use the site as intended\n",
    "\n",
    "With the developer tools open, go to the \"Network\" tab.\n",
    "\n",
    "Go back to the Airbnb website window, and search a new address. It can be any address. For example, you can check the area surrounding Columbia by entering, \"Pulitzer Hall, Broadway, New York, NY, USA\".\n",
    "\n",
    "We're just doing this step to trigger the network request (API call) that requests the potential earnings for the new address."
   ]
  },
  {
   "cell_type": "markdown",
   "id": "c56b041e",
   "metadata": {},
   "source": [
    "### 2) Find the API call\n",
    "\n",
    "After searching a new address, you should see more entries in the \"Network\" tab in the developer tools.\n",
    "\n",
    "Try to find the exact API call that pulls the estimated earnings.\n",
    "\n",
    "Hint: this is steps [3 and 4](https://inspectelement.org/apis.html#filter-requests-by-fetchxhr) in the tutorial.\n",
    "\n",
    "When you feel like you found the API call, copy it as a curl, and convert that curl into a Python request using [curlconverter.com](https://curlconverter.com/).\n",
    "\n",
    "Paste the request into the cell below, and run it."
   ]
  },
  {
   "cell_type": "code",
   "execution_count": 30,
   "id": "7c1b07be",
   "metadata": {},
   "outputs": [],
   "source": [
    "# Note to graders: sometimes different operating systems and browsers\n",
    "# result in different values here. It might not run on your computer.\n",
    "# What you want to look for is a response.json() that resembles that below\n",
    "\n",
    "import requests\n",
    "\n",
    "headers = {\n",
    "    'sec-ch-ua': '\"Not.A/Brand\";v=\"8\", \"Chromium\";v=\"114\", \"Google Chrome\";v=\"114\"',\n",
    "    'DNT': '1',\n",
    "    'X-Airbnb-Supports-Airlock-V2': 'true',\n",
    "    'X-CSRF-Token': 'null',\n",
    "    'X-Airbnb-API-Key': 'd306zoyjsyarp7ifhu67rjxn52tv0t20',\n",
    "    'X-Niobe-Short-Circuited': 'true',\n",
    "    'dpr': '2',\n",
    "    'sec-ch-ua-platform': '\"Android\"',\n",
    "    'device-memory': '8',\n",
    "    'X-Airbnb-GraphQL-Platform-Client': 'minimalist-niobe',\n",
    "    'X-Client-Version': 'db5f31305552abc4c3252f210c2c47cb0bbc6026',\n",
    "    'sec-ch-ua-mobile': '?1',\n",
    "    'X-CSRF-Without-Token': '1',\n",
    "    'User-Agent': 'Mozilla/5.0 (Linux; Android 6.0; Nexus 5 Build/MRA58N) AppleWebKit/537.36 (KHTML, like Gecko) Chrome/114.0.0.0 Mobile Safari/537.36',\n",
    "    'x-client-request-id': '0mrnyil1t679rc0pvn2n20viqhvo',\n",
    "    'viewport-width': '1573',\n",
    "    'Content-Type': 'application/json',\n",
    "    'Referer': 'https://www.airbnb.com/host/homes?room_type=ENTIRE_HOME',\n",
    "    'ect': '4g',\n",
    "    'X-Airbnb-GraphQL-Platform': 'web',\n",
    "}\n",
    "\n",
    "params = {\n",
    "    'operationName': 'GetHostEstimateData',\n",
    "    'locale': 'en',\n",
    "    'currency': 'USD',\n",
    "    'variables': '{\"durationGranularity\":[\"MONTHLY\"],\"source\":\"HOST_LANDING_PAGE\",\"location\":{\"searchQuery\":\"Pulitzer Hall, Broadway, New York, NY, USA\"},\"roomTypeCategory\":\"ENTIRE_HOME\",\"bedroom\":2,\"fetchDebugInfo\":false}',\n",
    "    'extensions': '{\"persistedQuery\":{\"version\":1,\"sha256Hash\":\"0ce03f62bd7e5cdaa639675604ea67ff782d277728c7c73b150b73c286ff9929\"}}',\n",
    "}\n",
    "\n",
    "response = requests.get('https://www.airbnb.com/api/v3/GetHostEstimateData', params=params, headers=headers)"
   ]
  },
  {
   "cell_type": "code",
   "execution_count": 1,
   "id": "a5914f08",
   "metadata": {},
   "outputs": [],
   "source": [
    "# use this function to show the raw JSON response\n",
    "# Note to graders: NOT A QUESTION\n",
    "response.json()"
   ]
  },
  {
   "cell_type": "markdown",
   "id": "6122d0f7",
   "metadata": {},
   "source": [
    "store the JSON response (dictionary) in a `records` variable to parse."
   ]
  },
  {
   "cell_type": "code",
   "execution_count": 20,
   "id": "a66c2962",
   "metadata": {},
   "outputs": [],
   "source": [
    "# Note to graders: NOT A QUESTION\n",
    "records = response.json()"
   ]
  },
  {
   "cell_type": "markdown",
   "id": "cf8bd657",
   "metadata": {},
   "source": [
    "here's a trick to see the keys in the dictionary."
   ]
  },
  {
   "cell_type": "code",
   "execution_count": 4,
   "id": "ebbefe51",
   "metadata": {},
   "outputs": [
    {
     "data": {
      "text/plain": [
       "dict_keys(['data', 'extensions'])"
      ]
     },
     "execution_count": 4,
     "metadata": {},
     "output_type": "execute_result"
    }
   ],
   "source": [
    "# Note to graders: NOT A QUESTION\n",
    "records.keys()"
   ]
  },
  {
   "cell_type": "markdown",
   "id": "f7bff0ce",
   "metadata": {},
   "source": [
    "If the dictionary is nested, you can go to the next key, and then list the keys, again."
   ]
  },
  {
   "cell_type": "code",
   "execution_count": 21,
   "id": "1c9f80a0",
   "metadata": {},
   "outputs": [
    {
     "data": {
      "text/plain": [
       "dict_keys(['__typename', 'hostEstimate'])"
      ]
     },
     "execution_count": 21,
     "metadata": {},
     "output_type": "execute_result"
    }
   ],
   "source": [
    "# Note to graders: NOT A QUESTION\n",
    "records['data']['presentation'].keys()"
   ]
  },
  {
   "cell_type": "markdown",
   "id": "bd57c7c7",
   "metadata": {},
   "source": [
    "### 3) Parse the response\n",
    "In the cell below, traverse the JSON response and get the estimated revenue per night. Store this in a variable named `estimate`."
   ]
  },
  {
   "cell_type": "code",
   "execution_count": 22,
   "id": "071695fe",
   "metadata": {},
   "outputs": [
    {
     "data": {
      "text/plain": [
       "'$299'"
      ]
     },
     "execution_count": 22,
     "metadata": {},
     "output_type": "execute_result"
    }
   ],
   "source": [
    "estimate = records['data']['presentation']['hostEstimate']['hostEstimateScreen']['header']['sections'][1]['value']\n",
    "estimate"
   ]
  },
  {
   "cell_type": "markdown",
   "id": "9c9168b5",
   "metadata": {},
   "source": [
    "### 4) Recycle the API call\n",
    "\n",
    "Next, we're going to make the API call reusable. In the cells below fill in what the URL is for the API call"
   ]
  },
  {
   "cell_type": "code",
   "execution_count": null,
   "id": "c947d199",
   "metadata": {},
   "outputs": [],
   "source": [
    "# what is the URL of the API we found?\n",
    "url = 'https://www.airbnb.com/api/v3/GetHostEstimateData'\n",
    "\n",
    "# copy the necessary headers here\n",
    "headers = {}\n",
    "\n",
    "# copy the necessary parameters here, but replace the hard-coded address with the variable\n",
    "address = \"8 Stone Street, New York, NY, USA\"\n",
    "params = {\n",
    "    'operationName': 'GetHostEstimateData',\n",
    "    'locale': 'en',\n",
    "    'currency': 'USD',\n",
    "    'variables': '{\"durationGranularity\":[\"MONTHLY\"],\"source\":\"HOST_LANDING_PAGE\",\"location\":{\"searchQuery\":\"' + address + '\"},\"roomTypeCategory\":\"ENTIRE_HOME\",\"bedroom\":2,\"fetchDebugInfo\":false}',\n",
    "    'extensions': '{\"persistedQuery\":{\"version\":1,\"sha256Hash\":\"0ce03f62bd7e5cdaa639675604ea67ff782d277728c7c73b150b73c286ff9929\"}}',\n",
    "}\n",
    "\n",
    "response = requests.get(url, params=params, headers=headers)"
   ]
  },
  {
   "cell_type": "markdown",
   "id": "a5775826",
   "metadata": {},
   "source": [
    "### 5) Make more API calls\n",
    "Run the API call for at least two other `address`es"
   ]
  },
  {
   "cell_type": "code",
   "execution_count": 24,
   "id": "f876b0b5",
   "metadata": {},
   "outputs": [],
   "source": [
    "import time"
   ]
  },
  {
   "cell_type": "code",
   "execution_count": 23,
   "id": "369261b4",
   "metadata": {},
   "outputs": [],
   "source": [
    "# here are some random addresses you can use:\n",
    "addresses = [\n",
    "    \"Pulitzer Hall, Broadway, New York, NY, USA\",\n",
    "    '1932 Bryant Avenue, The Bronx, NY, USA',\n",
    "    '810 39th Avenue Northeast, Naples, FL, USA',\n",
    "    '86 North 6th Street, Brooklyn, NY, USA'\n",
    "]"
   ]
  },
  {
   "cell_type": "code",
   "execution_count": 27,
   "id": "afba8256",
   "metadata": {},
   "outputs": [],
   "source": [
    "url = 'https://www.airbnb.com/api/v3/GetHostEstimateData'\n",
    "\n",
    "responses = []\n",
    "for address in addresses:\n",
    "    params = {\n",
    "        'operationName': 'GetHostEstimateData',\n",
    "        'locale': 'en',\n",
    "        'currency': 'USD',\n",
    "        'variables': '{\"durationGranularity\":[\"MONTHLY\"],\"source\":\"HOST_LANDING_PAGE\",\"location\":{\"searchQuery\":\"' + address + '\"},\"roomTypeCategory\":\"ENTIRE_HOME\",\"bedroom\":2,\"fetchDebugInfo\":false}',\n",
    "        'extensions': '{\"persistedQuery\":{\"version\":1,\"sha256Hash\":\"0ce03f62bd7e5cdaa639675604ea67ff782d277728c7c73b150b73c286ff9929\"}}',\n",
    "    }\n",
    "\n",
    "    response = requests.get(url, params=params, headers=headers)\n",
    "    \n",
    "    # check if the API call was successful by checking the status\n",
    "    if response.status_code == 200:\n",
    "        responses.append(response.json())\n",
    "    \n",
    "    # put some time between requests\n",
    "    time.sleep(1) "
   ]
  },
  {
   "cell_type": "markdown",
   "id": "b3e74626",
   "metadata": {},
   "source": [
    "### 6) What are the daily estimated earnings?\n",
    "Print the estimated earning per night for each address in `responses`."
   ]
  },
  {
   "cell_type": "code",
   "execution_count": 29,
   "id": "ae9cf5b4",
   "metadata": {},
   "outputs": [
    {
     "name": "stdout",
     "output_type": "stream",
     "text": [
      "$126\n",
      "$156\n",
      "$289\n"
     ]
    }
   ],
   "source": [
    "for records in responses:\n",
    "    estimate = records['data']['presentation']['hostEstimate']['hostEstimateScreen']['header']['sections'][1]['value']\n",
    "    print(estimate)"
   ]
  },
  {
   "cell_type": "markdown",
   "id": "073f2ce9",
   "metadata": {},
   "source": [
    "### Extra Credit\n",
    "1. Check different rental configurations in the number of \"bedrooms\".\n",
    "2. Get a random sample of addresses from usps.biglocalnews.org\n",
    "    - Merge socioeconomic data from the American Community Survey\n",
    "    - Format the addresses to match the input in the Airbnb site.\n",
    "3. Check if there are patterns in which areas are given the lowest estimates."
   ]
  },
  {
   "cell_type": "code",
   "execution_count": null,
   "id": "b93948ae",
   "metadata": {},
   "outputs": [],
   "source": []
  }
 ],
 "metadata": {
  "kernelspec": {
   "display_name": "Python 3",
   "language": "python",
   "name": "python3"
  },
  "language_info": {
   "codemirror_mode": {
    "name": "ipython",
    "version": 3
   },
   "file_extension": ".py",
   "mimetype": "text/x-python",
   "name": "python",
   "nbconvert_exporter": "python",
   "pygments_lexer": "ipython3",
   "version": "3.7.3"
  }
 },
 "nbformat": 4,
 "nbformat_minor": 5
}
