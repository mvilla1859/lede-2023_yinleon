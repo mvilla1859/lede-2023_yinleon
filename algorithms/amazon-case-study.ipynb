{
 "cells": [
  {
   "cell_type": "markdown",
   "id": "644d5268",
   "metadata": {},
   "source": [
    "# Amazon case study\n",
    "\n",
    "We'll cover random forests (the original use), and logistic regression (the modified use) for the same problem set.\n",
    "\n",
    "Read about the initial [methodology](https://themarkup.org/amazons-advantage/2021/10/14/how-we-analyzed-amazons-treatment-of-its-brands-in-search-results), and view the code on [Github](https://github.com/the-markup/investigation-amazon-brands)."
   ]
  },
  {
   "cell_type": "code",
   "execution_count": 2,
   "id": "9c713bcf",
   "metadata": {},
   "outputs": [],
   "source": [
    "import math\n",
    "import pandas as pd\n",
    "import numpy as np\n",
    "import matplotlib.pylab as plt\n",
    "\n",
    "import statsmodels.formula.api as smf\n",
    "from sklearn.model_selection import train_test_split\n",
    "from sklearn.ensemble import RandomForestClassifier\n",
    "from sklearn.model_selection import GridSearchCV, cross_val_score"
   ]
  },
  {
   "cell_type": "markdown",
   "id": "304c8298",
   "metadata": {},
   "source": [
    "First we'll read the training set into a dataframe. Note the _feature engineering_ has been done already."
   ]
  },
  {
   "cell_type": "code",
   "execution_count": 3,
   "id": "936abcae",
   "metadata": {},
   "outputs": [],
   "source": [
    "url = \"https://github.com/the-markup/investigation-amazon-brands/raw/master/data/output/datasets/pairwise_training_set.csv.gz\"\n",
    "df = pd.read_csv(url)"
   ]
  },
  {
   "cell_type": "code",
   "execution_count": 28,
   "id": "33d1b0c0",
   "metadata": {},
   "outputs": [
    {
     "data": {
      "text/html": [
       "<div>\n",
       "<style scoped>\n",
       "    .dataframe tbody tr th:only-of-type {\n",
       "        vertical-align: middle;\n",
       "    }\n",
       "\n",
       "    .dataframe tbody tr th {\n",
       "        vertical-align: top;\n",
       "    }\n",
       "\n",
       "    .dataframe thead th {\n",
       "        text-align: right;\n",
       "    }\n",
       "</style>\n",
       "<table border=\"1\" class=\"dataframe\">\n",
       "  <thead>\n",
       "    <tr style=\"text-align: right;\">\n",
       "      <th></th>\n",
       "      <th>search_term</th>\n",
       "      <th>placed_higher</th>\n",
       "      <th>stars_delta</th>\n",
       "      <th>reviews_delta</th>\n",
       "      <th>is_shipped_by_amazon</th>\n",
       "      <th>is_sold_by_amazon</th>\n",
       "      <th>is_amazon</th>\n",
       "      <th>is_top_clicked</th>\n",
       "      <th>random_noise</th>\n",
       "      <th>asin_1</th>\n",
       "      <th>asin_2</th>\n",
       "    </tr>\n",
       "  </thead>\n",
       "  <tbody>\n",
       "    <tr>\n",
       "      <th>0</th>\n",
       "      <td>#10 envelope</td>\n",
       "      <td>1</td>\n",
       "      <td>0.0</td>\n",
       "      <td>1654.0</td>\n",
       "      <td>0</td>\n",
       "      <td>2</td>\n",
       "      <td>2</td>\n",
       "      <td>0</td>\n",
       "      <td>-2.569736</td>\n",
       "      <td>B06VVLD2GL</td>\n",
       "      <td>B01D0OANU4</td>\n",
       "    </tr>\n",
       "    <tr>\n",
       "      <th>1</th>\n",
       "      <td>#6 envelope</td>\n",
       "      <td>1</td>\n",
       "      <td>0.1</td>\n",
       "      <td>7844.0</td>\n",
       "      <td>0</td>\n",
       "      <td>2</td>\n",
       "      <td>2</td>\n",
       "      <td>2</td>\n",
       "      <td>0.951532</td>\n",
       "      <td>B06X15WSLL</td>\n",
       "      <td>B07JNXMBSX</td>\n",
       "    </tr>\n",
       "  </tbody>\n",
       "</table>\n",
       "</div>"
      ],
      "text/plain": [
       "    search_term  placed_higher  stars_delta  reviews_delta  \\\n",
       "0  #10 envelope              1          0.0         1654.0   \n",
       "1   #6 envelope              1          0.1         7844.0   \n",
       "\n",
       "   is_shipped_by_amazon  is_sold_by_amazon  is_amazon  is_top_clicked  \\\n",
       "0                     0                  2          2               0   \n",
       "1                     0                  2          2               2   \n",
       "\n",
       "   random_noise      asin_1      asin_2  \n",
       "0     -2.569736  B06VVLD2GL  B01D0OANU4  \n",
       "1      0.951532  B06X15WSLL  B07JNXMBSX  "
      ]
     },
     "execution_count": 28,
     "metadata": {},
     "output_type": "execute_result"
    }
   ],
   "source": [
    "df.head(2)"
   ]
  },
  {
   "cell_type": "code",
   "execution_count": 5,
   "id": "3bc461f6",
   "metadata": {},
   "outputs": [],
   "source": [
    "# for whatever reason statsmodel prefers straightup numbers over the booleans...\n",
    "df['placed_higher'] = df.placed_higher.replace({True: 1, False: 0})"
   ]
  },
  {
   "cell_type": "markdown",
   "id": "8aefb013",
   "metadata": {},
   "source": [
    "## Random forest"
   ]
  },
  {
   "cell_type": "code",
   "execution_count": 6,
   "id": "309ba89e",
   "metadata": {},
   "outputs": [],
   "source": [
    "random_seed = 303"
   ]
  },
  {
   "cell_type": "code",
   "execution_count": 7,
   "id": "87b60a0f",
   "metadata": {},
   "outputs": [],
   "source": [
    "training_data = df.copy()"
   ]
  },
  {
   "cell_type": "markdown",
   "id": "48a7ef49",
   "metadata": {},
   "source": [
    "### Grid Search\n",
    "\n",
    "Use [this technique](https://scikit-learn.org/stable/modules/grid_search.html) to exhaustively tests for optimal **hyperparameters** -- IE the knobs and levers for the model.\n",
    "\n",
    "Here we set a dictionary `parameters` of each hyperparameter and potential values for each."
   ]
  },
  {
   "cell_type": "code",
   "execution_count": 8,
   "id": "cd670618",
   "metadata": {},
   "outputs": [],
   "source": [
    "# hyperparameters\n",
    "parameters = {\n",
    "    'n_estimators':(100, 300, 500), \n",
    "    'max_depth':[3, 5, 7], \n",
    "    'max_features': [1, 3, 5, 6],\n",
    "}\n",
    "# features\n",
    "cols = ['stars_delta', 'reviews_delta', 'is_amazon',\n",
    "        'is_shipped_by_amazon', 'is_sold_by_amazon',\n",
    "        'is_top_clicked', 'random_noise']\n",
    "# target\n",
    "target = 'placed_higher'"
   ]
  },
  {
   "cell_type": "code",
   "execution_count": 9,
   "id": "19cebfcf",
   "metadata": {},
   "outputs": [
    {
     "data": {
      "text/plain": [
       "{'max_depth': 3, 'max_features': 6, 'n_estimators': 500}"
      ]
     },
     "execution_count": 9,
     "metadata": {},
     "output_type": "execute_result"
    }
   ],
   "source": [
    "# this is the base model we're work on.\n",
    "forest = RandomForestClassifier(random_state=random_seed)\n",
    "\n",
    "# this is the object that does grid-search\n",
    "grid = GridSearchCV(forest, parameters, cv=5, scoring='accuracy', n_jobs=-1)\n",
    "X_train = training_data[cols]\n",
    "y_train = training_data[target]\n",
    "grid.fit(X_train, y_train)\n",
    "\n",
    "# what are the best parameters?\n",
    "grid.best_params_"
   ]
  },
  {
   "cell_type": "code",
   "execution_count": 10,
   "id": "d141f52e",
   "metadata": {},
   "outputs": [
    {
     "data": {
      "text/plain": [
       "0.7222614840989399"
      ]
     },
     "execution_count": 10,
     "metadata": {},
     "output_type": "execute_result"
    }
   ],
   "source": [
    "# what's the accuracy of the model with the best parameters?\n",
    "grid.best_score_"
   ]
  },
  {
   "cell_type": "code",
   "execution_count": 11,
   "id": "61188923",
   "metadata": {},
   "outputs": [],
   "source": [
    "# hyperparameters from gridsearch\n",
    "max_tree_depth = 3\n",
    "max_features = 6\n",
    "n_trees = 500"
   ]
  },
  {
   "cell_type": "markdown",
   "id": "21f870bc",
   "metadata": {},
   "source": [
    "### Feature importance\n",
    "\n",
    "Ask the random forest which factor was most useful to separate data points by their predicted class."
   ]
  },
  {
   "cell_type": "code",
   "execution_count": 12,
   "id": "35a593b2",
   "metadata": {},
   "outputs": [],
   "source": [
    "def fit_model(df, variable, \n",
    "              target, model):\n",
    "    \"\"\"Fits a model and gets accuracy\"\"\"\n",
    "    is_multivariate = True if isinstance(variable, list) else False   \n",
    "    X = df[variable]\n",
    "    y = df[target]\n",
    "    X_2d = X if is_multivariate else np.expand_dims(X.values, axis=1)  \n",
    "    \n",
    "    X_train, X_test, y_train, y_test = train_test_split(\n",
    "        X_2d, y, random_state=random_seed, test_size=.2,\n",
    "    )\n",
    "    model.fit(X_train, y_train)\n",
    "    accuracy = model.score(X_test, y_test)\n",
    "    \n",
    "    return accuracy"
   ]
  },
  {
   "cell_type": "code",
   "execution_count": 13,
   "id": "47c61db9",
   "metadata": {},
   "outputs": [
    {
     "data": {
      "image/png": "[encoded data removed]",
      "text/plain": [
       "<Figure size 576x432 with 1 Axes>"
      ]
     },
     "metadata": {
      "needs_background": "light"
     },
     "output_type": "display_data"
    }
   ],
   "source": [
    "# initiate the model\n",
    "forest = RandomForestClassifier(n_estimators=n_trees, \n",
    "                                max_depth=max_tree_depth, \n",
    "                                max_features=max_features,\n",
    "                                n_jobs=-1, random_state=random_seed)\n",
    "# fit the model\n",
    "score = fit_model(training_data, variable=cols, target=target, model=forest)\n",
    "\n",
    "# get the feature importance\n",
    "forest_importances = pd.Series(forest.feature_importances_, index=cols)\n",
    "forest_importances.sort_values(inplace=True, ascending=True)\n",
    "\n",
    "# plot the feature importance\n",
    "fig, ax = plt.subplots(figsize=(8, 6))\n",
    "forest_importances.plot.barh(ax=ax, color='grey')\n",
    "ax.set_xlabel(\"Feature Importance\")\n",
    "\n",
    "# Hide the right and top spines\n",
    "ax.spines['right'].set_visible(False)\n",
    "ax.spines['top'].set_visible(False)\n",
    "\n",
    "# Only show ticks on the left and bottom spines\n",
    "ax.yaxis.set_ticks_position('left')\n",
    "ax.xaxis.set_ticks_position('bottom') # Hide the right and top spines\n",
    "ax.spines['right'].set_visible(False)\n",
    "ax.spines['top'].set_visible(False)\n",
    "\n",
    "# Only show ticks on the left and bottom spines\n",
    "ax.yaxis.set_ticks_position('left')\n",
    "ax.xaxis.set_ticks_position('bottom')\n",
    "fig.tight_layout()"
   ]
  },
  {
   "cell_type": "markdown",
   "id": "95ca6cc8",
   "metadata": {},
   "source": [
    "## Ablation\n",
    "How we re-train the model with the entire dataset, and then with columns knocked out one-by-one, and alone one-by-one.\n",
    "\n",
    "We use k-folds cross-vaildation below in `fit_model_cv` (CV stands for cross-validation) to evalute the model trained on K (10) different sub-sections of the data."
   ]
  },
  {
   "cell_type": "code",
   "execution_count": 15,
   "id": "1395b492",
   "metadata": {},
   "outputs": [],
   "source": [
    "def fit_model_cv(df, variable, target, model, cv=10):\n",
    "    \"\"\"Fits a model and gets mean accuracy from k-folds cross validation\"\"\"\n",
    "    is_multivariate = True if isinstance(variable, list) else False   \n",
    "    X = df[variable]\n",
    "    y = df[target]\n",
    "    X_2d = X if is_multivariate else np.expand_dims(X.values, axis=1)\n",
    "    scores = cross_val_score(model, X, y, cv=cv)\n",
    "    accuracy = scores.mean()\n",
    "    std = scores.std()\n",
    "    return accuracy, std"
   ]
  },
  {
   "cell_type": "code",
   "execution_count": 16,
   "id": "82378f40",
   "metadata": {},
   "outputs": [
    {
     "name": "stdout",
     "output_type": "stream",
     "text": [
      "All features: 73.15%\n",
      "without stars_delta: 71.95 +/- 4.1%\n",
      "without reviews_delta: 69.9 +/- 2.6%\n",
      "without is_amazon: 63.47 +/- 4.7%\n",
      "without is_shipped_by_amazon: 71.95 +/- 3.8%\n",
      "without is_sold_by_amazon: 72.44 +/- 3.9%\n",
      "without is_top_clicked: 72.16 +/- 4.0%\n",
      "without random_noise: 72.3 +/- 4.0%\n"
     ]
    }
   ],
   "source": [
    "cat2performance = {}\n",
    "forest = RandomForestClassifier(n_estimators=n_trees, \n",
    "                                max_depth=max_tree_depth, \n",
    "                                max_features=max_features,\n",
    "                                n_jobs=-1, random_state=random_seed)\n",
    "score, std = fit_model_cv(training_data, variable=cols, target=target, model=forest)\n",
    "print(f\"All features: {score * 100 :.4}%\")\n",
    "cat2performance[\"All Features\"] = score\n",
    "\n",
    "# train the model with one feature removed at a time.\n",
    "for col in cols:\n",
    "    clf =  RandomForestClassifier(n_estimators=n_trees, \n",
    "                                  max_depth=max_tree_depth,\n",
    "                                  max_features=max_features,\n",
    "                                  n_jobs=-1, random_state=random_seed)\n",
    "    # knock out the column\n",
    "    iv = [c for c in cols if c not in col]\n",
    "    score, std = fit_model_cv(training_data, variable=iv, target=target, model=clf)\n",
    "    print(f\"without {col}: {score * 100 :.4} +/- {std * 100 :.2}%\")\n",
    "    cat2performance[f\"without {col}\"] = score"
   ]
  },
  {
   "cell_type": "code",
   "execution_count": 17,
   "id": "6770327c",
   "metadata": {},
   "outputs": [
    {
     "name": "stdout",
     "output_type": "stream",
     "text": [
      "with just stars_delta: 54.48 +/- 3.3%\n",
      "with just reviews_delta: 51.95 +/- 3.5%\n",
      "with just is_amazon: 70.67 +/- 2.6%\n",
      "with just is_shipped_by_amazon: 51.8 +/- 3.6%\n",
      "with just is_sold_by_amazon: 61.49 +/- 4.2%\n",
      "with just is_top_clicked: 54.91 +/- 2.4%\n",
      "with just random_noise: 49.26 +/- 3.7%\n"
     ]
    }
   ],
   "source": [
    "# train the model with just on feature at a time.\n",
    "cat2performance_standalone = {}\n",
    "for col in cols:\n",
    "    clf =  RandomForestClassifier(n_estimators=n_trees,\n",
    "                                  max_depth=max_tree_depth,\n",
    "                                  n_jobs=-1, random_state=random_seed)\n",
    "    score, std = fit_model_cv(training_data, variable=[col], target=target, model=clf)\n",
    "    print(f\"with just {col}: {score * 100 :.4} +/- {std * 100 :.2}%\")\n",
    "    cat2performance_standalone[f\"with just {col}\"] = score"
   ]
  },
  {
   "cell_type": "markdown",
   "id": "4808cac9",
   "metadata": {},
   "source": [
    "## Logistic regression\n",
    "\n",
    "We'll implement this in statsmodel.\n",
    "\n",
    "Here's the notation for recording the DV and the IVs: `DV ~ IV0 + ... + IVn`"
   ]
  },
  {
   "cell_type": "code",
   "execution_count": 18,
   "id": "6bcc4391",
   "metadata": {},
   "outputs": [],
   "source": [
    "formula = 'placed_higher ~ is_amazon + stars_delta + reviews_delta + is_shipped_by_amazon + is_sold_by_amazon + is_amazon + is_top_clicked + random_noise'"
   ]
  },
  {
   "cell_type": "code",
   "execution_count": 19,
   "id": "00ade968",
   "metadata": {},
   "outputs": [],
   "source": [
    "# how to fit the logistic regression:\n",
    "results = smf.logit(formula=formula, data=df).fit(disp=0)"
   ]
  },
  {
   "cell_type": "code",
   "execution_count": 20,
   "id": "4c2d1cb3",
   "metadata": {},
   "outputs": [
    {
     "data": {
      "text/html": [
       "<table class=\"simpletable\">\n",
       "<caption>Logit Regression Results</caption>\n",
       "<tr>\n",
       "  <th>Dep. Variable:</th>     <td>placed_higher</td>  <th>  No. Observations:  </th>   <td>  1415</td>  \n",
       "</tr>\n",
       "<tr>\n",
       "  <th>Model:</th>                 <td>Logit</td>      <th>  Df Residuals:      </th>   <td>  1407</td>  \n",
       "</tr>\n",
       "<tr>\n",
       "  <th>Method:</th>                 <td>MLE</td>       <th>  Df Model:          </th>   <td>     7</td>  \n",
       "</tr>\n",
       "<tr>\n",
       "  <th>Date:</th>            <td>Mon, 07 Aug 2023</td> <th>  Pseudo R-squ.:     </th>   <td>0.2990</td>  \n",
       "</tr>\n",
       "<tr>\n",
       "  <th>Time:</th>                <td>18:24:28</td>     <th>  Log-Likelihood:    </th>  <td> -687.51</td> \n",
       "</tr>\n",
       "<tr>\n",
       "  <th>converged:</th>             <td>True</td>       <th>  LL-Null:           </th>  <td> -980.72</td> \n",
       "</tr>\n",
       "<tr>\n",
       "  <th>Covariance Type:</th>     <td>nonrobust</td>    <th>  LLR p-value:       </th> <td>2.039e-122</td>\n",
       "</tr>\n",
       "</table>\n",
       "<table class=\"simpletable\">\n",
       "<tr>\n",
       "            <td></td>              <th>coef</th>     <th>std err</th>      <th>z</th>      <th>P>|z|</th>  <th>[0.025</th>    <th>0.975]</th>  \n",
       "</tr>\n",
       "<tr>\n",
       "  <th>Intercept</th>            <td>    0.0758</td> <td>    0.066</td> <td>    1.147</td> <td> 0.252</td> <td>   -0.054</td> <td>    0.205</td>\n",
       "</tr>\n",
       "<tr>\n",
       "  <th>is_amazon</th>            <td>    1.1647</td> <td>    0.081</td> <td>   14.441</td> <td> 0.000</td> <td>    1.007</td> <td>    1.323</td>\n",
       "</tr>\n",
       "<tr>\n",
       "  <th>stars_delta</th>          <td>   -0.2832</td> <td>    0.203</td> <td>   -1.393</td> <td> 0.164</td> <td>   -0.682</td> <td>    0.115</td>\n",
       "</tr>\n",
       "<tr>\n",
       "  <th>reviews_delta</th>        <td>-1.569e-06</td> <td> 1.16e-06</td> <td>   -1.351</td> <td> 0.177</td> <td>-3.84e-06</td> <td> 7.07e-07</td>\n",
       "</tr>\n",
       "<tr>\n",
       "  <th>is_shipped_by_amazon</th> <td>   -0.0285</td> <td>    0.101</td> <td>   -0.281</td> <td> 0.778</td> <td>   -0.227</td> <td>    0.170</td>\n",
       "</tr>\n",
       "<tr>\n",
       "  <th>is_sold_by_amazon</th>    <td>    0.3195</td> <td>    0.076</td> <td>    4.217</td> <td> 0.000</td> <td>    0.171</td> <td>    0.468</td>\n",
       "</tr>\n",
       "<tr>\n",
       "  <th>is_top_clicked</th>       <td>    0.0156</td> <td>    0.065</td> <td>    0.241</td> <td> 0.810</td> <td>   -0.112</td> <td>    0.143</td>\n",
       "</tr>\n",
       "<tr>\n",
       "  <th>random_noise</th>         <td>   -0.0199</td> <td>    0.048</td> <td>   -0.418</td> <td> 0.676</td> <td>   -0.113</td> <td>    0.074</td>\n",
       "</tr>\n",
       "</table>"
      ],
      "text/plain": [
       "<class 'statsmodels.iolib.summary.Summary'>\n",
       "\"\"\"\n",
       "                           Logit Regression Results                           \n",
       "==============================================================================\n",
       "Dep. Variable:          placed_higher   No. Observations:                 1415\n",
       "Model:                          Logit   Df Residuals:                     1407\n",
       "Method:                           MLE   Df Model:                            7\n",
       "Date:                Mon, 07 Aug 2023   Pseudo R-squ.:                  0.2990\n",
       "Time:                        18:24:28   Log-Likelihood:                -687.51\n",
       "converged:                       True   LL-Null:                       -980.72\n",
       "Covariance Type:            nonrobust   LLR p-value:                2.039e-122\n",
       "========================================================================================\n",
       "                           coef    std err          z      P>|z|      [0.025      0.975]\n",
       "----------------------------------------------------------------------------------------\n",
       "Intercept                0.0758      0.066      1.147      0.252      -0.054       0.205\n",
       "is_amazon                1.1647      0.081     14.441      0.000       1.007       1.323\n",
       "stars_delta             -0.2832      0.203     -1.393      0.164      -0.682       0.115\n",
       "reviews_delta        -1.569e-06   1.16e-06     -1.351      0.177   -3.84e-06    7.07e-07\n",
       "is_shipped_by_amazon    -0.0285      0.101     -0.281      0.778      -0.227       0.170\n",
       "is_sold_by_amazon        0.3195      0.076      4.217      0.000       0.171       0.468\n",
       "is_top_clicked           0.0156      0.065      0.241      0.810      -0.112       0.143\n",
       "random_noise            -0.0199      0.048     -0.418      0.676      -0.113       0.074\n",
       "========================================================================================\n",
       "\"\"\""
      ]
     },
     "execution_count": 20,
     "metadata": {},
     "output_type": "execute_result"
    }
   ],
   "source": [
    "results.summary()"
   ]
  },
  {
   "cell_type": "code",
   "execution_count": 21,
   "id": "38a96263",
   "metadata": {},
   "outputs": [],
   "source": [
    "table = pd.DataFrame({\n",
    "    'variables': results.params.keys(),\n",
    "    'coef': results.params.values,\n",
    "    'odds_ratio': np.exp(results.params.values),\n",
    "    \n",
    "})"
   ]
  },
  {
   "cell_type": "code",
   "execution_count": 22,
   "id": "b28e9c7f",
   "metadata": {},
   "outputs": [],
   "source": [
    "table['intercept'] = results.params['Intercept']\n"
   ]
  },
  {
   "cell_type": "code",
   "execution_count": 23,
   "id": "77650c95",
   "metadata": {},
   "outputs": [],
   "source": [
    "def odds_to_probability(row, step=1):\n",
    "    \"\"\"\n",
    "    See about this equation here:\n",
    "    http://faculty.cas.usf.edu/mbrannick/regression/Logistic.html\n",
    "    \"\"\"\n",
    "    a = row['intercept']\n",
    "    b = row['coef']\n",
    "    X = step\n",
    "    try:\n",
    "        return math.exp(a + b * X) / (1 + math.exp(a + b * X))\n",
    "    except:\n",
    "        return None"
   ]
  },
  {
   "cell_type": "code",
   "execution_count": 24,
   "id": "a0c19114",
   "metadata": {},
   "outputs": [],
   "source": [
    "# get the baseline probability of the outcome controlling for other factors.\n",
    "table['probability'] = table.apply(odds_to_probability, axis=1)"
   ]
  },
  {
   "cell_type": "code",
   "execution_count": 26,
   "id": "6b44232a",
   "metadata": {},
   "outputs": [
    {
     "data": {
      "text/html": [
       "<div>\n",
       "<style scoped>\n",
       "    .dataframe tbody tr th:only-of-type {\n",
       "        vertical-align: middle;\n",
       "    }\n",
       "\n",
       "    .dataframe tbody tr th {\n",
       "        vertical-align: top;\n",
       "    }\n",
       "\n",
       "    .dataframe thead th {\n",
       "        text-align: right;\n",
       "    }\n",
       "</style>\n",
       "<table border=\"1\" class=\"dataframe\">\n",
       "  <thead>\n",
       "    <tr style=\"text-align: right;\">\n",
       "      <th></th>\n",
       "      <th>variables</th>\n",
       "      <th>coef</th>\n",
       "      <th>odds_ratio</th>\n",
       "      <th>intercept</th>\n",
       "      <th>probability</th>\n",
       "    </tr>\n",
       "  </thead>\n",
       "  <tbody>\n",
       "    <tr>\n",
       "      <th>0</th>\n",
       "      <td>Intercept</td>\n",
       "      <td>0.075831</td>\n",
       "      <td>1.078780</td>\n",
       "      <td>0.075831</td>\n",
       "      <td>0.537843</td>\n",
       "    </tr>\n",
       "    <tr>\n",
       "      <th>1</th>\n",
       "      <td>is_amazon</td>\n",
       "      <td>1.164743</td>\n",
       "      <td>3.205098</td>\n",
       "      <td>0.075831</td>\n",
       "      <td>0.775664</td>\n",
       "    </tr>\n",
       "    <tr>\n",
       "      <th>2</th>\n",
       "      <td>stars_delta</td>\n",
       "      <td>-0.283157</td>\n",
       "      <td>0.753402</td>\n",
       "      <td>0.075831</td>\n",
       "      <td>0.448353</td>\n",
       "    </tr>\n",
       "    <tr>\n",
       "      <th>3</th>\n",
       "      <td>reviews_delta</td>\n",
       "      <td>-0.000002</td>\n",
       "      <td>0.999998</td>\n",
       "      <td>0.075831</td>\n",
       "      <td>0.518948</td>\n",
       "    </tr>\n",
       "    <tr>\n",
       "      <th>4</th>\n",
       "      <td>is_shipped_by_amazon</td>\n",
       "      <td>-0.028490</td>\n",
       "      <td>0.971912</td>\n",
       "      <td>0.075831</td>\n",
       "      <td>0.511833</td>\n",
       "    </tr>\n",
       "    <tr>\n",
       "      <th>5</th>\n",
       "      <td>is_sold_by_amazon</td>\n",
       "      <td>0.319513</td>\n",
       "      <td>1.376458</td>\n",
       "      <td>0.075831</td>\n",
       "      <td>0.597569</td>\n",
       "    </tr>\n",
       "    <tr>\n",
       "      <th>6</th>\n",
       "      <td>is_top_clicked</td>\n",
       "      <td>0.015636</td>\n",
       "      <td>1.015759</td>\n",
       "      <td>0.075831</td>\n",
       "      <td>0.522851</td>\n",
       "    </tr>\n",
       "    <tr>\n",
       "      <th>7</th>\n",
       "      <td>random_noise</td>\n",
       "      <td>-0.019943</td>\n",
       "      <td>0.980255</td>\n",
       "      <td>0.075831</td>\n",
       "      <td>0.513968</td>\n",
       "    </tr>\n",
       "  </tbody>\n",
       "</table>\n",
       "</div>"
      ],
      "text/plain": [
       "              variables      coef  odds_ratio  intercept  probability\n",
       "0             Intercept  0.075831    1.078780   0.075831     0.537843\n",
       "1             is_amazon  1.164743    3.205098   0.075831     0.775664\n",
       "2           stars_delta -0.283157    0.753402   0.075831     0.448353\n",
       "3         reviews_delta -0.000002    0.999998   0.075831     0.518948\n",
       "4  is_shipped_by_amazon -0.028490    0.971912   0.075831     0.511833\n",
       "5     is_sold_by_amazon  0.319513    1.376458   0.075831     0.597569\n",
       "6        is_top_clicked  0.015636    1.015759   0.075831     0.522851\n",
       "7          random_noise -0.019943    0.980255   0.075831     0.513968"
      ]
     },
     "execution_count": 26,
     "metadata": {},
     "output_type": "execute_result"
    }
   ],
   "source": [
    "table"
   ]
  },
  {
   "cell_type": "markdown",
   "id": "236cdd01",
   "metadata": {},
   "source": [
    "## McFadden's psuedo R-squared\n",
    "This is a goodness of fit metric. You want this number to be close to 1, but nothing really every gets above 0.7."
   ]
  },
  {
   "cell_type": "code",
   "execution_count": 27,
   "id": "1b856d51",
   "metadata": {},
   "outputs": [
    {
     "data": {
      "text/plain": [
       "0.2989757792343801"
      ]
     },
     "execution_count": 27,
     "metadata": {},
     "output_type": "execute_result"
    }
   ],
   "source": [
    "results.prsquared"
   ]
  },
  {
   "cell_type": "markdown",
   "id": "9c0db877",
   "metadata": {},
   "source": [
    "The odds of an Amazon product getting in the number one spotis 3.2x greater than the odds of a non-Amazon product getting the number one spot."
   ]
  },
  {
   "cell_type": "code",
   "execution_count": null,
   "id": "dbc2f58f",
   "metadata": {},
   "outputs": [],
   "source": []
  }
 ],
 "metadata": {
  "kernelspec": {
   "display_name": "Python 3",
   "language": "python",
   "name": "python3"
  },
  "language_info": {
   "codemirror_mode": {
    "name": "ipython",
    "version": 3
   },
   "file_extension": ".py",
   "mimetype": "text/x-python",
   "name": "python",
   "nbconvert_exporter": "python",
   "pygments_lexer": "ipython3",
   "version": "3.7.3"
  }
 },
 "nbformat": 4,
 "nbformat_minor": 5
}
