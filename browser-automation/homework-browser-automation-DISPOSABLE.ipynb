{
 "cells": [
  {
   "cell_type": "markdown",
   "id": "a7a6e170",
   "metadata": {},
   "source": [
    "# Browser Automation Homework\n",
    "Due 7-25<br>\n",
    "Completed by: **TK YOUR NAME**\n",
    "\n",
    "We're going to visit the real estate site Zillow.com and search \"For sale\" listings in a town of your choosing.\n",
    "\n",
    "We'll collect the listings in the first 5 pages (or all if you like), and get a feel for the price range in that town.\n",
    "\n",
    "Ultimately I want to know the median price of that town.\n",
    "\n",
    "Note: if you get asked if you're a bot, just complete the challenges manually."
   ]
  },
  {
   "cell_type": "code",
   "execution_count": 1,
   "id": "7b35e004-70f6-4df7-96db-4062b73ebc63",
   "metadata": {},
   "outputs": [],
   "source": [
    "import os\n",
    "import time\n",
    "import random\n",
    "import pandas as pd\n",
    "\n",
    "from seleniumwire import webdriver\n",
    "from selenium.webdriver.common.by import By\n",
    "from selenium.webdriver.common.action_chains import ActionChains\n",
    "from selenium.webdriver.common.keys import Keys\n",
    "from selenium.webdriver.support.ui import WebDriverWait\n",
    "from selenium.webdriver.support import expected_conditions as EC"
   ]
  },
  {
   "cell_type": "markdown",
   "id": "7e8561e7",
   "metadata": {},
   "source": [
    "### 1) Open the browser, hide automation signs, visit Zillow.com"
   ]
  },
  {
   "cell_type": "code",
   "execution_count": 2,
   "id": "4ae37209-d851-4322-91a9-89772a6e4971",
   "metadata": {},
   "outputs": [],
   "source": [
    "def open_browser():\n",
    "\n",
    "    options = webdriver.ChromeOptions()\n",
    "\n",
    "    # The browser should open at is maximum size\n",
    "    options.add_argument('start-maximized')\n",
    "\n",
    "    # Remove all the signs that reveal this is an automated browser\n",
    "    options.add_argument('--disable-blink-features=AutomationControlled')\n",
    "    options.add_experimental_option(\"excludeSwitches\", [\"enable-automation\"])\n",
    "    options.add_experimental_option('useAutomationExtension', False)\n",
    "\n",
    "    return webdriver.Chrome(options=options)"
   ]
  },
  {
   "cell_type": "code",
   "execution_count": 3,
   "id": "c6fe677e-9aa0-46b6-866d-1dcca8e15756",
   "metadata": {},
   "outputs": [],
   "source": [
    "driver = open_browser()\n",
    "driver.get('https://www.zillow.com')"
   ]
  },
  {
   "cell_type": "markdown",
   "id": "0b4bdbf4",
   "metadata": {},
   "source": [
    "### 2) Find Search Box\n",
    "\n",
    "Use selenium's `find_element` [function](https://selenium-python.readthedocs.io/locating-elements.html?highlight=find_element#locating-elements) to find the search box on the Zillow site.\n",
    "You can use whichever `By` [option](https://selenium-python.readthedocs.io/api.html?highlight=By#locate-elements-by) you feel most comfortable."
   ]
  },
  {
   "cell_type": "code",
   "execution_count": 4,
   "id": "a8748d9e-471f-497b-8df1-01cbb799897d",
   "metadata": {},
   "outputs": [
    {
     "data": {
      "text/plain": [
       "<selenium.webdriver.remote.webelement.WebElement (session=\"ceb1a0c78fc98dd8b77b28b1ba1e0f5c\", element=\"D2C920E9D0C2830AD2951E7193EED0AC_element_23\")>"
      ]
     },
     "execution_count": 4,
     "metadata": {},
     "output_type": "execute_result"
    }
   ],
   "source": [
    "search_box = driver.find_element(\n",
    "    By.XPATH,\n",
    "    '//input[@placeholder=\"Enter an address, neighborhood, city, or ZIP code\"]'\n",
    ")\n",
    "search_box"
   ]
  },
  {
   "cell_type": "markdown",
   "id": "74eede8e",
   "metadata": {},
   "source": [
    "### 3) Input a geography into search bar\n",
    "\n",
    "After you've found `search_box` find a way to input or send `search_term` into the input field.\n",
    "\n",
    "Feel free to change `search_term` to where ever you like."
   ]
  },
  {
   "cell_type": "code",
   "execution_count": 5,
   "id": "f78e321f-6bfd-464a-bf9b-1f9d3219210c",
   "metadata": {},
   "outputs": [],
   "source": [
    "city = 'Leavenworth, WA'\n",
    "search_box.send_keys(city)"
   ]
  },
  {
   "cell_type": "markdown",
   "id": "d0bd680e",
   "metadata": {},
   "source": [
    "### 4) Make the search\n",
    "\n",
    "Originally, I thought we could get away with just pressing \"ENTER\". If you try that you'll see that listings are not from the geography you're searching.\n",
    "\n",
    "Instead, you'll see a list of suggestions. Click the first suggestion.\n",
    "\n",
    "You can do that by first finding that suggestion, then [clicking](https://saucelabs.com/resources/blog/the-selenium-click-command) on it."
   ]
  },
  {
   "cell_type": "code",
   "execution_count": 6,
   "id": "27b998a2-a821-43c1-8cf9-5faa5465f4f6",
   "metadata": {},
   "outputs": [
    {
     "data": {
      "text/plain": [
       "<selenium.webdriver.remote.webelement.WebElement (session=\"ceb1a0c78fc98dd8b77b28b1ba1e0f5c\", element=\"D2C920E9D0C2830AD2951E7193EED0AC_element_24\")>"
      ]
     },
     "execution_count": 6,
     "metadata": {},
     "output_type": "execute_result"
    }
   ],
   "source": [
    "search_button = driver.find_element(\n",
    "    By.XPATH, \n",
    "    '//button[@type=\"submit\"]')\n",
    "search_button"
   ]
  },
  {
   "cell_type": "code",
   "execution_count": 7,
   "id": "210114ac-c219-402f-9bfc-3546a95215e7",
   "metadata": {},
   "outputs": [],
   "source": [
    "search_button.click()"
   ]
  },
  {
   "cell_type": "markdown",
   "id": "decaf693",
   "metadata": {},
   "source": [
    "### 5) Pick \"For sale,\" if asked\n",
    "You might be prompted to check for rentals or sales. This doesn't always show up, but be prepared to click \"For sale\" if you need to."
   ]
  },
  {
   "cell_type": "code",
   "execution_count": 8,
   "id": "f79ab4f0-d04c-4b78-a850-9d338bbc0843",
   "metadata": {},
   "outputs": [
    {
     "data": {
      "text/plain": [
       "<selenium.webdriver.remote.webelement.WebElement (session=\"ceb1a0c78fc98dd8b77b28b1ba1e0f5c\", element=\"D2C920E9D0C2830AD2951E7193EED0AC_element_28\")>"
      ]
     },
     "execution_count": 8,
     "metadata": {},
     "output_type": "execute_result"
    }
   ],
   "source": [
    "sale_button = driver.find_element(\n",
    "    By.XPATH, \n",
    "    '//button[normalize-space()=\"For sale\"]'\n",
    ")\n",
    "sale_button"
   ]
  },
  {
   "cell_type": "code",
   "execution_count": 9,
   "id": "6a6fe7e1-b3d8-4ae9-a6a3-370eda471d0a",
   "metadata": {},
   "outputs": [],
   "source": [
    "sale_button.click() "
   ]
  },
  {
   "cell_type": "markdown",
   "id": "a930022a",
   "metadata": {},
   "source": [
    "### 6) What are the prices of the houses on the first page?\n",
    "Print the text of each listing's property price below:"
   ]
  },
  {
   "cell_type": "code",
   "execution_count": 10,
   "id": "207343de-dc24-442d-8259-5eed88740f41",
   "metadata": {},
   "outputs": [
    {
     "name": "stdout",
     "output_type": "stream",
     "text": [
      "9\n",
      "$429,000\n",
      "$199,000\n",
      "$495,000\n",
      "$550,000\n",
      "$59,900\n",
      "$475,000\n",
      "$90,000\n",
      "$375,000\n",
      "$1,999,000\n"
     ]
    }
   ],
   "source": [
    "cards = driver.find_elements(\n",
    "    By.XPATH,\n",
    "    '//span[@data-test=\"property-card-price\"]',\n",
    ")\n",
    "prices = [price.text for price in cards]\n",
    "\n",
    "print(len(prices))\n",
    "for price in prices:\n",
    "    print(price)"
   ]
  },
  {
   "cell_type": "markdown",
   "id": "19bf88a4",
   "metadata": {},
   "source": [
    "Note: you _should_ see more than nine listings.\n",
    "\n",
    "You'll need to find a way to scroll down the page to load each new card. From my tests, each page holds up to 40.\n",
    "\n",
    "This is not a simple task! I found one way to do this below, can you find a better way to do this?"
   ]
  },
  {
   "cell_type": "code",
   "execution_count": 21,
   "id": "17a4e4ee-0344-4888-8f36-e206d3ae8301",
   "metadata": {},
   "outputs": [],
   "source": [
    "N = 0\n",
    "while True:\n",
    "    # get all the listings, and scroll to the last one, then wait two seconds.\n",
    "    prices = driver.find_elements(By.XPATH, './/span[@data-test=\"property-card-price\"]')\n",
    "    last_listing = prices[-1]\n",
    "    \n",
    "    # you can use selenium to issue JavaScript commands:\n",
    "    driver.execute_script(\"arguments[0].scrollIntoView();\", last_listing)\n",
    "    N_prices = len(prices)\n",
    "    if N_prices == N:\n",
    "        break\n",
    "    N = N_prices\n",
    "    time.sleep(2)"
   ]
  },
  {
   "cell_type": "code",
   "execution_count": 22,
   "id": "e41ef8ff-da7a-4101-a201-2cf4defb5644",
   "metadata": {},
   "outputs": [
    {
     "name": "stdout",
     "output_type": "stream",
     "text": [
      "41\n"
     ]
    },
    {
     "data": {
      "text/plain": [
       "['$429,000',\n",
       " '$199,000',\n",
       " '$495,000',\n",
       " '$550,000',\n",
       " '$59,900',\n",
       " '$475,000',\n",
       " '$90,000',\n",
       " '$375,000',\n",
       " '$1,999,000',\n",
       " '$2,944,000',\n",
       " '$3,800,000',\n",
       " '$589,000',\n",
       " '$522,000',\n",
       " '$799,000',\n",
       " '$1,100,000',\n",
       " '$2,625,000',\n",
       " '$795,000',\n",
       " '$405,000',\n",
       " '$415,000',\n",
       " '$1,275,000',\n",
       " '$1,200,000',\n",
       " '$289,000',\n",
       " '$1,299,000',\n",
       " '$699,000',\n",
       " '$799,900',\n",
       " '$449,000',\n",
       " '$649,950',\n",
       " '$2,500,000',\n",
       " '$1,900,000',\n",
       " '$850,000',\n",
       " '$2,950,000',\n",
       " '$799,000',\n",
       " '$329,000',\n",
       " '$1,900,000',\n",
       " '$1,175,000',\n",
       " '$269,000',\n",
       " '$559,950',\n",
       " '$990,000',\n",
       " '$599,000',\n",
       " '$764,000',\n",
       " '$1,875,000']"
      ]
     },
     "execution_count": 22,
     "metadata": {},
     "output_type": "execute_result"
    }
   ],
   "source": [
    "print(len(prices))\n",
    "\n",
    "prices = [price.text for price in prices]\n",
    "prices"
   ]
  },
  {
   "cell_type": "markdown",
   "id": "70d3837a",
   "metadata": {},
   "source": [
    "Is there a better way to do this? Feel free to experiment, but it's not necessary for the assignment."
   ]
  },
  {
   "cell_type": "markdown",
   "id": "b50dfbf7",
   "metadata": {},
   "source": [
    "### 7) Save the results as HTML\n",
    "Save the page source to `html_out` as an HTML file"
   ]
  },
  {
   "cell_type": "code",
   "execution_count": 23,
   "id": "65aa6d22",
   "metadata": {},
   "outputs": [],
   "source": [
    "# TK save the page to `html_out`\n",
    "with open('data/zillow_source.html', 'w') as f:\n",
    "    f.write(driver.page_source)"
   ]
  },
  {
   "cell_type": "markdown",
   "id": "fe80ca9e",
   "metadata": {},
   "source": [
    "### 8) Go to the next page\n",
    "After collecting the first page, go to the next one by clicking the \"Next page\" button."
   ]
  },
  {
   "cell_type": "code",
   "execution_count": 24,
   "id": "9c52a54f",
   "metadata": {},
   "outputs": [
    {
     "data": {
      "text/plain": [
       "<selenium.webdriver.remote.webelement.WebElement (session=\"ceb1a0c78fc98dd8b77b28b1ba1e0f5c\", element=\"1634859133D49332C1FE1EAF7B94B17F_element_167\")>"
      ]
     },
     "execution_count": 24,
     "metadata": {},
     "output_type": "execute_result"
    }
   ],
   "source": [
    "next_page = driver.find_element(\n",
    "    By.XPATH,\n",
    "    '//a[@title=\"Next page\"]'\n",
    ")\n",
    "next_page"
   ]
  },
  {
   "cell_type": "code",
   "execution_count": 25,
   "id": "60ee8310-86c7-46e1-9087-b410d0271d4a",
   "metadata": {},
   "outputs": [],
   "source": [
    "#TK click it (yes this is repetative)\n",
    "next_page.click()"
   ]
  },
  {
   "cell_type": "markdown",
   "id": "9ff9424b",
   "metadata": {},
   "source": [
    "### 9) Cycle through each page of results\n",
    "Above we outlined each step, now put it all together here and collect as many results as you can. Add some `time.sleep(2)` (or some other reasonable time) between each step.\n",
    "\n",
    "You can stop after the 5th page to save time.\n",
    "\n",
    "Note: you can parse price from the listings directly from Selenium here, or save each page as HTML and parse them after you collect time. I recommend the latter, but for the sake of the homework feel free to take the shortcut."
   ]
  },
  {
   "cell_type": "code",
   "execution_count": 41,
   "id": "6ab6b0f1",
   "metadata": {},
   "outputs": [],
   "source": [
    "# first close the browser to start anew\n",
    "driver.close()"
   ]
  },
  {
   "cell_type": "code",
   "execution_count": 42,
   "id": "e197d96c-8afe-4fdf-998c-4465f26c5959",
   "metadata": {},
   "outputs": [],
   "source": [
    "driver = open_browser()\n",
    "driver.get('https://www.zillow.com')"
   ]
  },
  {
   "cell_type": "code",
   "execution_count": 43,
   "id": "54651d9f-c4e2-4494-8c89-16087f766d69",
   "metadata": {},
   "outputs": [],
   "source": [
    "search_box = driver.find_element(\n",
    "    By.XPATH,\n",
    "    '//input[@placeholder=\"Enter an address, neighborhood, city, or ZIP code\"]',\n",
    ")\n",
    "\n",
    "city = 'Leavenworth, WA'\n",
    "search_box.send_keys(city)"
   ]
  },
  {
   "cell_type": "code",
   "execution_count": 44,
   "id": "4b7c67fa-a173-4079-bd15-1c559210ed79",
   "metadata": {},
   "outputs": [],
   "source": [
    "send_button = driver.find_element(\n",
    "    By.XPATH,\n",
    "    '//button[@type=\"submit\"]',\n",
    ")\n",
    "send_button.click()"
   ]
  },
  {
   "cell_type": "code",
   "execution_count": 45,
   "id": "e194c2b3-1b14-4d8a-a516-16b59ff2b58a",
   "metadata": {},
   "outputs": [],
   "source": [
    "for_sale = driver.find_element(\n",
    "    By.XPATH,\n",
    "    '//button[normalize-space()=\"For sale\"]', \n",
    ")\n",
    "\n",
    "for_sale.click()"
   ]
  },
  {
   "cell_type": "code",
   "execution_count": null,
   "id": "c7bd7f8c-296f-47ac-af43-7a8218190d5e",
   "metadata": {},
   "outputs": [],
   "source": [
    "num_pages = 3\n",
    "for i in range(0,num_pages):\n",
    "    N = 0\n",
    "    while True:\n",
    "        # get all the listings, and scroll to the last one, then wait two seconds.\n",
    "        cards = driver.find_elements(\n",
    "            By.XPATH, \n",
    "            # './/span[@data-test=\"property-card-price\"]'\n",
    "            '//div[contains(@class, \"StyledPropertyCardDataWrapper\")]'\n",
    "            \n",
    "        )\n",
    "    \n",
    "        last_listing = cards[-1]\n",
    "        \n",
    "        # you can use selenium to issue JavaScript commands:\n",
    "        driver.execute_script(\"arguments[0].scrollIntoView();\", last_listing)\n",
    "        N_cards = len(cards)\n",
    "        print(N_cards)\n",
    "        if N_cards == N:\n",
    "            break\n",
    "        N = N_cards\n",
    "        time.sleep(2)\n",
    "    \n",
    "    with open(f'data/zillow_source_{i}.html', 'w') as f:\n",
    "        f.write(driver.page_source)\n",
    "\n",
    "    if i < num_pages:\n",
    "        next_page = driver.find_element(\n",
    "            By.XPATH,\n",
    "            '//a[@title=\"Next page\"]'\n",
    "            )\n",
    "        next_page.click()\n",
    "        time.sleep(2)"
   ]
  },
  {
   "cell_type": "code",
   "execution_count": 47,
   "id": "11f58218-aa88-49eb-a272-88f5ca91409d",
   "metadata": {},
   "outputs": [
    {
     "data": {
      "text/plain": [
       "['25701 Camp 12 Road, Leavenworth, WA 98826\\nListing provided by NWMLS\\n$189,000\\n0.29 acres lot - Active',\n",
       " '25701 Camp 12 Road, Leavenworth, WA 98826\\nListing provided by NWMLS\\n$189,000\\n0.29 acres lot - Active',\n",
       " '25701 Camp 12 Road, Leavenworth, WA 98826\\nListing provided by NWMLS\\n$189,000\\n0.29 acres lot - Active',\n",
       " '25701 Camp 12 Road, Leavenworth, WA 98826\\nListing provided by NWMLS\\n$189,000\\n0.29 acres lot - Active',\n",
       " '25701 Camp 12 Road, Leavenworth, WA 98826\\nListing provided by NWMLS\\n$189,000\\n0.29 acres lot - Active',\n",
       " '25701 Camp 12 Road, Leavenworth, WA 98826\\nListing provided by NWMLS\\n$189,000\\n0.29 acres lot - Active',\n",
       " '25701 Camp 12 Road, Leavenworth, WA 98826\\nListing provided by NWMLS\\n$189,000\\n0.29 acres lot - Active',\n",
       " '25701 Camp 12 Road, Leavenworth, WA 98826\\nListing provided by NWMLS\\n$189,000\\n0.29 acres lot - Active',\n",
       " '25701 Camp 12 Road, Leavenworth, WA 98826\\nListing provided by NWMLS\\n$189,000\\n0.29 acres lot - Active',\n",
       " '25701 Camp 12 Road, Leavenworth, WA 98826\\nListing provided by NWMLS\\n$189,000\\n0.29 acres lot - Active',\n",
       " '25701 Camp 12 Road, Leavenworth, WA 98826\\nListing provided by NWMLS\\n$189,000\\n0.29 acres lot - Active',\n",
       " '25701 Camp 12 Road, Leavenworth, WA 98826\\nListing provided by NWMLS\\n$189,000\\n0.29 acres lot - Active',\n",
       " '25701 Camp 12 Road, Leavenworth, WA 98826\\nListing provided by NWMLS\\n$189,000\\n0.29 acres lot - Active',\n",
       " '25701 Camp 12 Road, Leavenworth, WA 98826\\nListing provided by NWMLS\\n$189,000\\n0.29 acres lot - Active',\n",
       " '25701 Camp 12 Road, Leavenworth, WA 98826\\nListing provided by NWMLS\\n$189,000\\n0.29 acres lot - Active',\n",
       " '25701 Camp 12 Road, Leavenworth, WA 98826\\nListing provided by NWMLS\\n$189,000\\n0.29 acres lot - Active',\n",
       " '25701 Camp 12 Road, Leavenworth, WA 98826\\nListing provided by NWMLS\\n$189,000\\n0.29 acres lot - Active',\n",
       " '25701 Camp 12 Road, Leavenworth, WA 98826\\nListing provided by NWMLS\\n$189,000\\n0.29 acres lot - Active',\n",
       " '25701 Camp 12 Road, Leavenworth, WA 98826\\nListing provided by NWMLS\\n$189,000\\n0.29 acres lot - Active',\n",
       " '25701 Camp 12 Road, Leavenworth, WA 98826\\nListing provided by NWMLS\\n$189,000\\n0.29 acres lot - Active',\n",
       " '25701 Camp 12 Road, Leavenworth, WA 98826\\nListing provided by NWMLS\\n$189,000\\n0.29 acres lot - Active',\n",
       " '25701 Camp 12 Road, Leavenworth, WA 98826\\nListing provided by NWMLS\\n$189,000\\n0.29 acres lot - Active',\n",
       " '25701 Camp 12 Road, Leavenworth, WA 98826\\nListing provided by NWMLS\\n$189,000\\n0.29 acres lot - Active',\n",
       " '25701 Camp 12 Road, Leavenworth, WA 98826\\nListing provided by NWMLS\\n$189,000\\n0.29 acres lot - Active']"
      ]
     },
     "execution_count": 47,
     "metadata": {},
     "output_type": "execute_result"
    }
   ],
   "source": [
    "xpath_expr = '//div[contains(@class, \"StyledPropertyCardDataWrapper\")]'\n",
    "prices = [card.find_element(By.XPATH, xpath_expr).text for card in cards]\n",
    "prices"
   ]
  },
  {
   "cell_type": "code",
   "execution_count": 85,
   "id": "d303466b-e668-4970-8756-3f8f49b2fd36",
   "metadata": {},
   "outputs": [],
   "source": [
    "driver.close()"
   ]
  },
  {
   "cell_type": "markdown",
   "id": "b0d34d09",
   "metadata": {},
   "source": [
    "### 10) Parse the prices\n",
    "\n",
    "Parse the prices into a list or a Pandas Series, and list the median price."
   ]
  },
  {
   "cell_type": "code",
   "execution_count": 76,
   "id": "526688cc-75a5-4f25-a2c5-f7a30d6cbee5",
   "metadata": {},
   "outputs": [],
   "source": [
    "from lxml import etree\n",
    "import re"
   ]
  },
  {
   "cell_type": "code",
   "execution_count": 73,
   "id": "56f2df02-63fb-4438-80d8-6ec6f15f8df7",
   "metadata": {},
   "outputs": [],
   "source": [
    "def extract_cards(num_pages, xpath_expr):\n",
    "    cards = []\n",
    "    for i in range(0, num_pages):\n",
    "        dom = etree.HTML(open(f'data/zillow_source_{i}.html').read())\n",
    "        cards = cards + dom.xpath(xpath_expr)\n",
    "        print(len(cards))\n",
    "    return cards"
   ]
  },
  {
   "cell_type": "code",
   "execution_count": 78,
   "id": "dc276796-4ffd-42a8-a362-a283e31fe313",
   "metadata": {},
   "outputs": [
    {
     "name": "stdout",
     "output_type": "stream",
     "text": [
      "41\n",
      "82\n",
      "106\n"
     ]
    },
    {
     "data": {
      "text/plain": [
       "[429000,\n",
       " 199000,\n",
       " 495000,\n",
       " 550000,\n",
       " 59900,\n",
       " 475000,\n",
       " 90000,\n",
       " 375000,\n",
       " 1999000,\n",
       " 2944000,\n",
       " 3800000,\n",
       " 589000,\n",
       " 522000,\n",
       " 799000,\n",
       " 1100000,\n",
       " 2625000,\n",
       " 795000,\n",
       " 405000,\n",
       " 415000,\n",
       " 1275000,\n",
       " 1200000,\n",
       " 289000,\n",
       " 1299000,\n",
       " 699000,\n",
       " 799900,\n",
       " 449000,\n",
       " 649950,\n",
       " 2500000,\n",
       " 1900000,\n",
       " 850000,\n",
       " 2950000,\n",
       " 799000,\n",
       " 329000,\n",
       " 1900000,\n",
       " 1175000,\n",
       " 269000,\n",
       " 559950,\n",
       " 990000,\n",
       " 599000,\n",
       " 764000,\n",
       " 1875000,\n",
       " 1099000,\n",
       " 599000,\n",
       " 295000,\n",
       " 154000,\n",
       " 405000,\n",
       " 264900,\n",
       " 299000,\n",
       " 960000,\n",
       " 539000,\n",
       " 1125000,\n",
       " 79000,\n",
       " 1100000,\n",
       " 1590000,\n",
       " 825000,\n",
       " 450000,\n",
       " 485000,\n",
       " 415000,\n",
       " 349000,\n",
       " 450000,\n",
       " 525000,\n",
       " 200000,\n",
       " 950000,\n",
       " 379000,\n",
       " 198000,\n",
       " 1750000,\n",
       " 80000,\n",
       " 505000,\n",
       " 359000,\n",
       " 225000,\n",
       " 250000,\n",
       " 425000,\n",
       " 310000,\n",
       " 348000,\n",
       " 90000,\n",
       " 295000,\n",
       " 350000,\n",
       " 259000,\n",
       " 325000,\n",
       " 189000,\n",
       " 560000,\n",
       " 625000,\n",
       " 189000,\n",
       " 239000,\n",
       " 217000,\n",
       " 399700,\n",
       " 249900,\n",
       " 1600000,\n",
       " 425000,\n",
       " 249000,\n",
       " 475000,\n",
       " 149000,\n",
       " 699000,\n",
       " 217000,\n",
       " 499900,\n",
       " 350000,\n",
       " 418000,\n",
       " 149000,\n",
       " 349000,\n",
       " 499900,\n",
       " 125000,\n",
       " 375000,\n",
       " 295000,\n",
       " 690000,\n",
       " 250000,\n",
       " 420000]"
      ]
     },
     "execution_count": 78,
     "metadata": {},
     "output_type": "execute_result"
    }
   ],
   "source": [
    "prices = extract_cards(\n",
    "    3, \n",
    "    xpath_expr\n",
    ")\n",
    "prices = [price.text for price in prices]\n",
    "prices = [int(re.sub('\\$|,', '', price)) for price in prices]\n",
    "prices"
   ]
  },
  {
   "cell_type": "code",
   "execution_count": 80,
   "id": "8bc8dcdb-e73b-42f0-8717-6d41d88f288d",
   "metadata": {},
   "outputs": [],
   "source": [
    "import statistics"
   ]
  },
  {
   "cell_type": "code",
   "execution_count": 81,
   "id": "7799a40b-290a-49ba-8215-df0b72ec98a8",
   "metadata": {},
   "outputs": [
    {
     "data": {
      "text/plain": [
       "688641.5094339623"
      ]
     },
     "execution_count": 81,
     "metadata": {},
     "output_type": "execute_result"
    }
   ],
   "source": [
    "statistics.mean(prices)"
   ]
  },
  {
   "cell_type": "code",
   "execution_count": 82,
   "id": "56239c83-0112-4fec-b17c-e2b05a28b2ce",
   "metadata": {},
   "outputs": [
    {
     "data": {
      "text/plain": [
       "449500.0"
      ]
     },
     "execution_count": 82,
     "metadata": {},
     "output_type": "execute_result"
    }
   ],
   "source": [
    "statistics.median(prices)"
   ]
  },
  {
   "cell_type": "code",
   "execution_count": 83,
   "id": "7ed87d41",
   "metadata": {},
   "outputs": [
    {
     "data": {
      "text/plain": [
       "675607.5610135312"
      ]
     },
     "execution_count": 83,
     "metadata": {},
     "output_type": "execute_result"
    }
   ],
   "source": [
    "statistics.stdev(prices)"
   ]
  },
  {
   "cell_type": "code",
   "execution_count": 84,
   "id": "fee3cecb-7831-4e29-a08c-b5f0fd9ca03b",
   "metadata": {},
   "outputs": [
    {
     "data": {
      "text/plain": [
       "count    1.060000e+02\n",
       "mean     6.886415e+05\n",
       "std      6.756076e+05\n",
       "min      5.990000e+04\n",
       "25%      2.950000e+05\n",
       "50%      4.495000e+05\n",
       "75%      7.990000e+05\n",
       "max      3.800000e+06\n",
       "dtype: float64"
      ]
     },
     "execution_count": 84,
     "metadata": {},
     "output_type": "execute_result"
    }
   ],
   "source": [
    "pd.Series(prices).describe()"
   ]
  },
  {
   "cell_type": "markdown",
   "id": "6adfe7a0-d3a5-4d70-8505-106400885d91",
   "metadata": {},
   "source": [
    "## Extra credit\n",
    "- What is the median price per square foot?\n",
    "- Which realtor has the most listings?\n",
    "- Can you stain listings over $1M in red and take a full-screenshot?"
   ]
  },
  {
   "cell_type": "code",
   "execution_count": null,
   "id": "92bb616d-11dc-48cd-af3b-67e9ca9e0aef",
   "metadata": {},
   "outputs": [],
   "source": []
  }
 ],
 "metadata": {
  "kernelspec": {
   "display_name": "Python 3 (ipykernel)",
   "language": "python",
   "name": "python3"
  },
  "language_info": {
   "codemirror_mode": {
    "name": "ipython",
    "version": 3
   },
   "file_extension": ".py",
   "mimetype": "text/x-python",
   "name": "python",
   "nbconvert_exporter": "python",
   "pygments_lexer": "ipython3",
   "version": "3.11.6"
  }
 },
 "nbformat": 4,
 "nbformat_minor": 5
}
