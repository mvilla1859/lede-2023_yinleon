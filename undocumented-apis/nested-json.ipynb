{
 "cells": [
  {
   "cell_type": "markdown",
   "id": "b6a15396",
   "metadata": {},
   "source": [
    "# Parsing nested JSON\n",
    "\n",
    "Often times JSON responses are nested like this:"
   ]
  },
  {
   "cell_type": "code",
   "execution_count": 12,
   "id": "ddffa55f",
   "metadata": {},
   "outputs": [],
   "source": [
    "name2details = {\n",
    "    'leon' : {\n",
    "        'lastName' : 'yin',\n",
    "        'hairColor' : 'blk',\n",
    "        'pets' : 1,\n",
    "        'favoriteNumbers' : [1,2,3]\n",
    "    },\n",
    "    'soma' : {\n",
    "        'lastName' : 'soma',\n",
    "        'hairColor' : 'NA',\n",
    "        'favoriteNumbers' : [0,-99]\n",
    "    },\n",
    "    \n",
    "}"
   ]
  },
  {
   "cell_type": "markdown",
   "id": "e4c27667",
   "metadata": {},
   "source": [
    "Sometimes these JSON responses (which are dictionaries in Python) are long.\n",
    "\n",
    "You can summarize the keys like this:"
   ]
  },
  {
   "cell_type": "code",
   "execution_count": 4,
   "id": "1b332148",
   "metadata": {},
   "outputs": [
    {
     "data": {
      "text/plain": [
       "dict_keys(['leon', 'soma'])"
      ]
     },
     "execution_count": 4,
     "metadata": {},
     "output_type": "execute_result"
    }
   ],
   "source": [
    "name2details.keys()"
   ]
  },
  {
   "cell_type": "markdown",
   "id": "35f81650",
   "metadata": {},
   "source": [
    "Summarize the values like this:"
   ]
  },
  {
   "cell_type": "code",
   "execution_count": 6,
   "id": "ba21d0a2",
   "metadata": {},
   "outputs": [
    {
     "data": {
      "text/plain": [
       "dict_values([{'lastName': 'yin', 'hairColor': 'blk', 'favoriteNumbers': [1, 2, 3]}, {'lastName': 'soma', 'hairColor': 'NA', 'favoriteNumbers': [0, -99]}])"
      ]
     },
     "execution_count": 6,
     "metadata": {},
     "output_type": "execute_result"
    }
   ],
   "source": [
    "name2details.values()"
   ]
  },
  {
   "cell_type": "markdown",
   "id": "d94fad4c",
   "metadata": {},
   "source": [
    "You can access both using `items()`"
   ]
  },
  {
   "cell_type": "code",
   "execution_count": 7,
   "id": "733bc430",
   "metadata": {},
   "outputs": [
    {
     "name": "stdout",
     "output_type": "stream",
     "text": [
      "leon {'lastName': 'yin', 'hairColor': 'blk', 'favoriteNumbers': [1, 2, 3]}\n",
      "soma {'lastName': 'soma', 'hairColor': 'NA', 'favoriteNumbers': [0, -99]}\n"
     ]
    }
   ],
   "source": [
    "for k, v in name2details.items():\n",
    "    print(k, v)"
   ]
  },
  {
   "cell_type": "markdown",
   "id": "286ec11d",
   "metadata": {},
   "source": [
    "You can access nested objects like this:"
   ]
  },
  {
   "cell_type": "code",
   "execution_count": 8,
   "id": "4f5596de",
   "metadata": {},
   "outputs": [
    {
     "data": {
      "text/plain": [
       "{'lastName': 'yin', 'hairColor': 'blk', 'favoriteNumbers': [1, 2, 3]}"
      ]
     },
     "execution_count": 8,
     "metadata": {},
     "output_type": "execute_result"
    }
   ],
   "source": [
    "name2details['leon']"
   ]
  },
  {
   "cell_type": "code",
   "execution_count": 9,
   "id": "796c4806",
   "metadata": {},
   "outputs": [
    {
     "data": {
      "text/plain": [
       "'yin'"
      ]
     },
     "execution_count": 9,
     "metadata": {},
     "output_type": "execute_result"
    }
   ],
   "source": [
    "name2details['leon']['lastName']"
   ]
  },
  {
   "cell_type": "code",
   "execution_count": 13,
   "id": "c47677b5",
   "metadata": {},
   "outputs": [
    {
     "data": {
      "text/plain": [
       "1"
      ]
     },
     "execution_count": 13,
     "metadata": {},
     "output_type": "execute_result"
    }
   ],
   "source": [
    "name2details['leon']['pets']"
   ]
  },
  {
   "cell_type": "code",
   "execution_count": 16,
   "id": "85a85700",
   "metadata": {},
   "outputs": [
    {
     "data": {
      "text/plain": [
       "'go ask yourself!'"
      ]
     },
     "execution_count": 16,
     "metadata": {},
     "output_type": "execute_result"
    }
   ],
   "source": [
    "name2details['soma'].get('pets', \"go ask yourself!\")"
   ]
  },
  {
   "cell_type": "markdown",
   "id": "a9245fda",
   "metadata": {},
   "source": [
    "Sometimes these objects are lists, you can combine the named indexing with numerical positional indexing"
   ]
  },
  {
   "cell_type": "code",
   "execution_count": 18,
   "id": "3202c2a5",
   "metadata": {},
   "outputs": [
    {
     "data": {
      "text/plain": [
       "-99"
      ]
     },
     "execution_count": 18,
     "metadata": {},
     "output_type": "execute_result"
    }
   ],
   "source": [
    "name2details['soma']['favoriteNumbers'][1]"
   ]
  },
  {
   "cell_type": "code",
   "execution_count": null,
   "id": "15b79ac4",
   "metadata": {},
   "outputs": [],
   "source": []
  }
 ],
 "metadata": {
  "kernelspec": {
   "display_name": "Python 3",
   "language": "python",
   "name": "python3"
  },
  "language_info": {
   "codemirror_mode": {
    "name": "ipython",
    "version": 3
   },
   "file_extension": ".py",
   "mimetype": "text/x-python",
   "name": "python",
   "nbconvert_exporter": "python",
   "pygments_lexer": "ipython3",
   "version": "3.7.3"
  }
 },
 "nbformat": 4,
 "nbformat_minor": 5
}
