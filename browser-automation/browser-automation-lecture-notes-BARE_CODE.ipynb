{
 "cells": [
  {
   "cell_type": "markdown",
   "id": "86bda04e",
   "metadata": {},
   "source": [
    "# Browser Automation Lecture Notes\n",
    "Date: 2023-07-18\n",
    "\n",
    "We'll use this notebook to work through some examples and showcase some essential functions in Selenium.\n",
    "\n",
    "Rather than basic Selenium, we'll use Selenium Wire, which can be used to intercept API calls/network requests."
   ]
  },
  {
   "cell_type": "code",
   "execution_count": 1,
   "id": "cc5f4087-1a42-495f-9603-2d4e14d62282",
   "metadata": {},
   "outputs": [],
   "source": [
    "# !pip install selenium selenium-wire chromedriver-binary-auto"
   ]
  },
  {
   "cell_type": "code",
   "execution_count": 2,
   "id": "3c4fdd7b",
   "metadata": {},
   "outputs": [],
   "source": [
    "import os\n",
    "import random\n",
    "import time\n",
    "\n",
    "from seleniumwire import webdriver\n",
    "from selenium.webdriver.common.by import By\n",
    "from selenium.webdriver.common.action_chains import ActionChains\n",
    "from selenium.webdriver.common.keys import Keys\n",
    "from selenium.webdriver.support.ui import WebDriverWait\n",
    "from selenium.webdriver.support import expected_conditions as EC\n",
    "\n",
    "from selenium.common.exceptions import (\n",
    "    MoveTargetOutOfBoundsException,\n",
    "    TimeoutException,\n",
    "    WebDriverException,\n",
    ")\n",
    "\n",
    "import chromedriver_binary"
   ]
  },
  {
   "cell_type": "markdown",
   "id": "c5672101-1fac-458b-ab4f-cc9760e18208",
   "metadata": {},
   "source": [
    "### Open browser, visit Amazon and perform a search"
   ]
  },
  {
   "cell_type": "code",
   "execution_count": 3,
   "id": "608419d3-0695-4930-b32e-d81d459e2651",
   "metadata": {},
   "outputs": [],
   "source": [
    "# Open a browser session\n",
    "driver = webdriver.Chrome()\n",
    "\n",
    "# Visit a page\n",
    "driver.get('https://amazon.com')\n",
    "\n",
    "# Find the search box\n",
    "search_box = driver.find_element(By.XPATH, './/input[@aria-label=\"Search Amazon\"]')\n",
    "\n",
    "# Write something to search in the search box\n",
    "search_box.send_keys('womens shirt')\n",
    "\n",
    "# Press enter (in general)\n",
    "ActionChains(driver).send_keys(Keys.ENTER).perform()"
   ]
  },
  {
   "cell_type": "markdown",
   "id": "687dad3a-b371-4f9e-9bb9-b243f701c3a5",
   "metadata": {},
   "source": [
    "### Parsing"
   ]
  },
  {
   "cell_type": "markdown",
   "id": "4fe34e1c-61e7-41d9-a23c-65913ada5a4b",
   "metadata": {},
   "source": [
    "**Note**: Leon recommends not using Selenium for parsing, but only for BA. Save down the page source and then parse the saved results in BeautifulSoup, lxml, or whatever parsing software you prefer."
   ]
  },
  {
   "cell_type": "code",
   "execution_count": null,
   "id": "41750d17-a6ff-4d5f-a1e5-167dfaca89e4",
   "metadata": {},
   "outputs": [],
   "source": [
    "# list all the product elements\n",
    "xpath = './/div[contains(@cel_widget_id, \"MAIN-SEARCH_RESULTS-\")]'\n",
    "product_tiles = driver.find_elements(By.XPATH, xpath)\n",
    "\n",
    "# print the brand name of each product\n",
    "for product in product_tiles:\n",
    "    print(product.find_element(By.TAG_NAME, 'h2').text)"
   ]
  },
  {
   "cell_type": "markdown",
   "id": "b34a404f",
   "metadata": {},
   "source": [
    "### Running javascript"
   ]
  },
  {
   "cell_type": "markdown",
   "id": "e369d5ba-bc6c-4cc0-9399-63465068a01d",
   "metadata": {},
   "source": [
    "Highlight merchendise from ads in red"
   ]
  },
  {
   "cell_type": "code",
   "execution_count": 15,
   "id": "abb96bfd-c9fc-4187-8579-196f0677737f",
   "metadata": {},
   "outputs": [
    {
     "name": "stdout",
     "output_type": "stream",
     "text": [
      "11\n"
     ]
    }
   ],
   "source": [
    "ads = driver.find_elements(\n",
    "    By.XPATH, \n",
    "    # you can use XPATH to specify the attributes of the children of the node you want...\n",
    "    './/div[@data-asin and .//a[@aria-label=\"View Sponsored information or leave ad feedback\"]]'\n",
    ")\n",
    "\n",
    "print(len(ads))\n",
    "\n",
    "color='red'\n",
    "js = f\"arguments[0].setAttribute('style','background-color: {color} !important; transition: all 0.5s linear;')\"\n",
    "for elem in ads:\n",
    "    driver.execute_script(js, elem)"
   ]
  },
  {
   "cell_type": "markdown",
   "id": "546419ed-0677-4b3b-a97c-351387f69334",
   "metadata": {},
   "source": [
    "### Get the positions of the elements in the page"
   ]
  },
  {
   "cell_type": "code",
   "execution_count": 16,
   "id": "72f173e6",
   "metadata": {},
   "outputs": [],
   "source": [
    "import pandas as pd"
   ]
  },
  {
   "cell_type": "code",
   "execution_count": 17,
   "id": "6df59cfd-a9f8-4d85-b0c2-71d1af065a1b",
   "metadata": {},
   "outputs": [
    {
     "data": {
      "text/plain": [
       "17577"
      ]
     },
     "execution_count": 17,
     "metadata": {},
     "output_type": "execute_result"
    }
   ],
   "source": [
    "height = driver.execute_script(\"return document.body.scrollHeight\")\n",
    "height"
   ]
  },
  {
   "cell_type": "markdown",
   "id": "c41f9d67",
   "metadata": {},
   "source": [
    "Get the coorindates and size of each element using the `rect` function."
   ]
  },
  {
   "cell_type": "code",
   "execution_count": 18,
   "id": "31b2ead4",
   "metadata": {},
   "outputs": [
    {
     "data": {
      "text/plain": [
       "[{'height': 689, 'width': 293, 'x': 602, 'y': 516.96875},\n",
       " {'height': 689, 'width': 293, 'x': 895, 'y': 516.96875},\n",
       " {'height': 651, 'width': 293, 'x': 309, 'y': 1205.671875},\n",
       " {'height': 436, 'width': 879, 'x': 309, 'y': 2565.078125},\n",
       " {'height': 719, 'width': 293, 'x': 895, 'y': 3041.03125},\n",
       " {'height': 681, 'width': 293, 'x': 309, 'y': 3759.734375},\n",
       " {'height': 681, 'width': 293, 'x': 602, 'y': 3759.734375},\n",
       " {'height': 692, 'width': 293, 'x': 309, 'y': 5040.140625},\n",
       " {'height': 692, 'width': 293, 'x': 602, 'y': 5040.140625},\n",
       " {'height': 692, 'width': 293, 'x': 895, 'y': 5040.140625},\n",
       " {'height': 640, 'width': 293, 'x': 309, 'y': 5731.84375}]"
      ]
     },
     "execution_count": 18,
     "metadata": {},
     "output_type": "execute_result"
    }
   ],
   "source": [
    "ad_metadata = [elem.rect for elem in ads if elem.is_displayed()] #only visible elements\n",
    "ad_metadata"
   ]
  },
  {
   "cell_type": "code",
   "execution_count": 19,
   "id": "bd242e9f-98ff-47e1-b30b-0283700f7218",
   "metadata": {},
   "outputs": [
    {
     "data": {
      "text/html": [
       "<div>\n",
       "<style scoped>\n",
       "    .dataframe tbody tr th:only-of-type {\n",
       "        vertical-align: middle;\n",
       "    }\n",
       "\n",
       "    .dataframe tbody tr th {\n",
       "        vertical-align: top;\n",
       "    }\n",
       "\n",
       "    .dataframe thead th {\n",
       "        text-align: right;\n",
       "    }\n",
       "</style>\n",
       "<table border=\"1\" class=\"dataframe\">\n",
       "  <thead>\n",
       "    <tr style=\"text-align: right;\">\n",
       "      <th></th>\n",
       "      <th>height</th>\n",
       "      <th>width</th>\n",
       "      <th>x</th>\n",
       "      <th>y</th>\n",
       "      <th>how_far_down</th>\n",
       "    </tr>\n",
       "  </thead>\n",
       "  <tbody>\n",
       "    <tr>\n",
       "      <th>0</th>\n",
       "      <td>689</td>\n",
       "      <td>293</td>\n",
       "      <td>602</td>\n",
       "      <td>516.968750</td>\n",
       "      <td>0.029412</td>\n",
       "    </tr>\n",
       "    <tr>\n",
       "      <th>1</th>\n",
       "      <td>689</td>\n",
       "      <td>293</td>\n",
       "      <td>895</td>\n",
       "      <td>516.968750</td>\n",
       "      <td>0.029412</td>\n",
       "    </tr>\n",
       "    <tr>\n",
       "      <th>2</th>\n",
       "      <td>651</td>\n",
       "      <td>293</td>\n",
       "      <td>309</td>\n",
       "      <td>1205.671875</td>\n",
       "      <td>0.068594</td>\n",
       "    </tr>\n",
       "    <tr>\n",
       "      <th>3</th>\n",
       "      <td>436</td>\n",
       "      <td>879</td>\n",
       "      <td>309</td>\n",
       "      <td>2565.078125</td>\n",
       "      <td>0.145934</td>\n",
       "    </tr>\n",
       "    <tr>\n",
       "      <th>4</th>\n",
       "      <td>719</td>\n",
       "      <td>293</td>\n",
       "      <td>895</td>\n",
       "      <td>3041.031250</td>\n",
       "      <td>0.173012</td>\n",
       "    </tr>\n",
       "    <tr>\n",
       "      <th>5</th>\n",
       "      <td>681</td>\n",
       "      <td>293</td>\n",
       "      <td>309</td>\n",
       "      <td>3759.734375</td>\n",
       "      <td>0.213901</td>\n",
       "    </tr>\n",
       "    <tr>\n",
       "      <th>6</th>\n",
       "      <td>681</td>\n",
       "      <td>293</td>\n",
       "      <td>602</td>\n",
       "      <td>3759.734375</td>\n",
       "      <td>0.213901</td>\n",
       "    </tr>\n",
       "    <tr>\n",
       "      <th>7</th>\n",
       "      <td>692</td>\n",
       "      <td>293</td>\n",
       "      <td>309</td>\n",
       "      <td>5040.140625</td>\n",
       "      <td>0.286746</td>\n",
       "    </tr>\n",
       "    <tr>\n",
       "      <th>8</th>\n",
       "      <td>692</td>\n",
       "      <td>293</td>\n",
       "      <td>602</td>\n",
       "      <td>5040.140625</td>\n",
       "      <td>0.286746</td>\n",
       "    </tr>\n",
       "    <tr>\n",
       "      <th>9</th>\n",
       "      <td>692</td>\n",
       "      <td>293</td>\n",
       "      <td>895</td>\n",
       "      <td>5040.140625</td>\n",
       "      <td>0.286746</td>\n",
       "    </tr>\n",
       "    <tr>\n",
       "      <th>10</th>\n",
       "      <td>640</td>\n",
       "      <td>293</td>\n",
       "      <td>309</td>\n",
       "      <td>5731.843750</td>\n",
       "      <td>0.326099</td>\n",
       "    </tr>\n",
       "  </tbody>\n",
       "</table>\n",
       "</div>"
      ],
      "text/plain": [
       "    height  width    x            y  how_far_down\n",
       "0      689    293  602   516.968750      0.029412\n",
       "1      689    293  895   516.968750      0.029412\n",
       "2      651    293  309  1205.671875      0.068594\n",
       "3      436    879  309  2565.078125      0.145934\n",
       "4      719    293  895  3041.031250      0.173012\n",
       "5      681    293  309  3759.734375      0.213901\n",
       "6      681    293  602  3759.734375      0.213901\n",
       "7      692    293  309  5040.140625      0.286746\n",
       "8      692    293  602  5040.140625      0.286746\n",
       "9      692    293  895  5040.140625      0.286746\n",
       "10     640    293  309  5731.843750      0.326099"
      ]
     },
     "execution_count": 19,
     "metadata": {},
     "output_type": "execute_result"
    }
   ],
   "source": [
    "df = pd.DataFrame(ad_metadata)\n",
    "df['how_far_down'] = df['y'] / height\n",
    "df"
   ]
  },
  {
   "cell_type": "code",
   "execution_count": 20,
   "id": "06056c2e",
   "metadata": {},
   "outputs": [
    {
     "data": {
      "text/plain": [
       "how_far_down\n",
       "0.286746    3\n",
       "0.029412    2\n",
       "0.213901    2\n",
       "0.068594    1\n",
       "0.145934    1\n",
       "0.173012    1\n",
       "0.326099    1\n",
       "Name: count, dtype: int64"
      ]
     },
     "execution_count": 20,
     "metadata": {},
     "output_type": "execute_result"
    }
   ],
   "source": [
    "df['how_far_down'].value_counts()"
   ]
  },
  {
   "cell_type": "markdown",
   "id": "5ca3128a",
   "metadata": {},
   "source": [
    "### Save receipts"
   ]
  },
  {
   "cell_type": "code",
   "execution_count": 21,
   "id": "80e0884f",
   "metadata": {},
   "outputs": [],
   "source": [
    "# how to save what the emulator sees\n",
    "source = driver.page_source\n",
    "with open('data/amazon_selenium_women_sshirts.html', 'w') as f:\n",
    "    f.write(source)"
   ]
  },
  {
   "cell_type": "code",
   "execution_count": 22,
   "id": "e33a076e",
   "metadata": {},
   "outputs": [
    {
     "data": {
      "text/plain": [
       "True"
      ]
     },
     "execution_count": 22,
     "metadata": {},
     "output_type": "execute_result"
    }
   ],
   "source": [
    "# just what's visible in the screen\n",
    "driver.save_screenshot('data/amazon_selenium_test.png')"
   ]
  },
  {
   "cell_type": "markdown",
   "id": "fd400d35",
   "metadata": {},
   "source": [
    "There's are ways to do a full screen screenshot, but none of my function seem too work. Can you take a full-screenshot?"
   ]
  },
  {
   "cell_type": "markdown",
   "id": "844168b6",
   "metadata": {},
   "source": [
    "### Parsing the results however you like\n",
    "For me it means using lxml, but you can do this same thing in BeautifulSoup, and I encourage you do so..."
   ]
  },
  {
   "cell_type": "code",
   "execution_count": null,
   "id": "8712643f-9cff-4bca-aca9-5e5b8c5f2b9d",
   "metadata": {},
   "outputs": [],
   "source": [
    "# !pip install lxml"
   ]
  },
  {
   "cell_type": "code",
   "execution_count": null,
   "id": "bd60df79",
   "metadata": {},
   "outputs": [],
   "source": [
    "from lxml import etree"
   ]
  },
  {
   "cell_type": "code",
   "execution_count": null,
   "id": "1507e08c",
   "metadata": {},
   "outputs": [],
   "source": [
    "dom = etree.HTML(open('data/amazon_selenium_women_sshirts.html').read())\n",
    "# dom = etree.HTML(driver.page_source)"
   ]
  },
  {
   "cell_type": "code",
   "execution_count": null,
   "id": "00ae9ecc",
   "metadata": {},
   "outputs": [],
   "source": [
    "product_metadata = []\n",
    "for result in dom.xpath('.//div[contains(@cel_widget_id, \"MAIN-SEARCH_RESULTS\")]'):\n",
    "    # this is where you can parse as many fields as you like.\n",
    "    brand, product_name = result.xpath('.//h2//text()')[:2]\n",
    "    product_metadata.append({\n",
    "        'brand': brand,\n",
    "        'product_name': product_name\n",
    "    })"
   ]
  },
  {
   "cell_type": "code",
   "execution_count": null,
   "id": "3dab1008",
   "metadata": {},
   "outputs": [],
   "source": [
    "pd.DataFrame(product_metadata)"
   ]
  },
  {
   "cell_type": "markdown",
   "id": "a782c337-4682-400b-9132-b7b22c613914",
   "metadata": {},
   "source": [
    "### SheWin, She Spin... or rotate\n",
    "1. Find all products\n",
    "2. filter to those with brand == SHEWIN\n",
    "3. Find the image\n",
    "    - Inject Javascript to make it spin."
   ]
  },
  {
   "cell_type": "code",
   "execution_count": null,
   "id": "b40ba5cd",
   "metadata": {},
   "outputs": [],
   "source": [
    "def spin(driver, elem):\n",
    "    \"\"\"\n",
    "    Injects a style attribute to rotate `elem` 180 degrees.\n",
    "    \"\"\"\n",
    "    style = f\"transform: rotate(180deg) !important; \"\n",
    "    driver.execute_script(\n",
    "            f\"arguments[0].setAttribute('style','{style}')\", elem\n",
    "    )"
   ]
  },
  {
   "cell_type": "code",
   "execution_count": null,
   "id": "971e6756",
   "metadata": {},
   "outputs": [],
   "source": [
    "for elem in ads:\n",
    "    spin(driver, elem)\n",
    "    # stain(driver, elem)"
   ]
  },
  {
   "cell_type": "code",
   "execution_count": null,
   "id": "d461f6a7",
   "metadata": {},
   "outputs": [],
   "source": [
    "brands_to_spin = [\n",
    "    'SHEWIN',\n",
    "    'Blooming Jelly'\n",
    "]"
   ]
  },
  {
   "cell_type": "code",
   "execution_count": null,
   "id": "09d3bf8f",
   "metadata": {},
   "outputs": [],
   "source": [
    "product_tiles = driver.find_elements(\n",
    "    By.XPATH, \n",
    "    './/div[contains(@cel_widget_id, \"MAIN-SEARCH_RESULTS-\")]' # the contains syntac allows a substring match\n",
    ")\n",
    "len(product_tiles)"
   ]
  },
  {
   "cell_type": "markdown",
   "id": "2e82fadb",
   "metadata": {},
   "source": [
    "## Here's the bountry\n",
    "Ultimately, I want every product image from specific brands (of y0ur choosing) to rotate continuously.\n",
    "You need a full screenshot or a video is fine, too.\n",
    "\n",
    "Also, make sure to save the results before you parse them."
   ]
  },
  {
   "cell_type": "code",
   "execution_count": null,
   "id": "bc728a7d",
   "metadata": {},
   "outputs": [],
   "source": [
    "for product in product_tiles:\n",
    "    # get the brand name...\n",
    "    brand_name = product.find_element(\n",
    "        By.TAG_NAME, 'h2'\n",
    "        # By.XPATH, './/h2'\n",
    "\n",
    "    ).text\n",
    "    \n",
    "    # check if brand is in list\n",
    "    if brand_name in brands_to_spin:\n",
    "        print(product.text)\n",
    "        # find the image TK\n",
    "        spin(driver, product)"
   ]
  },
  {
   "cell_type": "code",
   "execution_count": null,
   "id": "70814748-5690-4058-8a78-b974a68f2211",
   "metadata": {},
   "outputs": [],
   "source": []
  }
 ],
 "metadata": {
  "kernelspec": {
   "display_name": "Python 3 (ipykernel)",
   "language": "python",
   "name": "python3"
  },
  "language_info": {
   "codemirror_mode": {
    "name": "ipython",
    "version": 3
   },
   "file_extension": ".py",
   "mimetype": "text/x-python",
   "name": "python",
   "nbconvert_exporter": "python",
   "pygments_lexer": "ipython3",
   "version": "3.11.6"
  }
 },
 "nbformat": 4,
 "nbformat_minor": 5
}
