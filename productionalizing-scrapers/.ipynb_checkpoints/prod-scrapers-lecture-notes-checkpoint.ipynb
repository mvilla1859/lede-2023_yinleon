{
 "cells": [
  {
   "cell_type": "markdown",
   "id": "2e7f4ca6",
   "metadata": {},
   "source": [
    "# Today's theme is Failiure\n"
   ]
  },
  {
   "cell_type": "markdown",
   "id": "8427b9ac",
   "metadata": {},
   "source": [
    "# How To Debug Scapers: Browser Automation"
   ]
  },
  {
   "cell_type": "markdown",
   "id": "7ad64e43",
   "metadata": {},
   "source": [
    "## 1. Spot check the results\n",
    "\n",
    "Manually inspect the data you just collected. Does it look like what you expect?\n",
    "\n",
    "Let's look at the first and last page of Zillow that we collected."
   ]
  },
  {
   "cell_type": "markdown",
   "id": "8dde54bb",
   "metadata": {},
   "source": [
    "## 2. Can't find an element\n",
    "\n",
    "Maybe something hasn't loaded yet. If that is the case, you can wait for it to show up.\n",
    "\n",
    "See the example in the [Inspect Element tutorial](https://inspectelement.org/browser_automation.html#step-3-finding-elements-on-page-and-interacting-with-them)."
   ]
  },
  {
   "cell_type": "code",
   "execution_count": null,
   "id": "e761937e",
   "metadata": {},
   "outputs": [],
   "source": [
    "from selenium.webdriver.support.ui import WebDriverWait\n",
    "from selenium.webdriver.support import expected_conditions as EC\n",
    "\n",
    "# Wait up to 20 seconds before we proceed to `find_element`.\n",
    "X_seconds = 20\n",
    "wait = WebDriverWait(driver, timeout = X_seconds)\n",
    "wait.until(EC.visibility_of_element_located(\n",
    "    (By.CSS_SELECTOR, '[data-e2e=\"modal-close-inner-button\"]'))\n",
    ")\n",
    "\n",
    "# this line will only execute whenever the element was found (or after 20 seconds it it wasn't)\n",
    "close_button = driver.find_element(By.CSS_SELECTOR, '[data-e2e=\"modal-close-inner-button\"]')\n",
    "close_button"
   ]
  },
  {
   "cell_type": "markdown",
   "id": "68ca4ebe",
   "metadata": {},
   "source": [
    "## 3. Look to known issues\n",
    "\n",
    "For example, a capcha, or an empty result. \n",
    "- Wait to see if these signs show up.\n",
    "- Intervene as necessary."
   ]
  },
  {
   "cell_type": "markdown",
   "id": "fcd2bff6",
   "metadata": {},
   "source": [
    "# Debugging APIs"
   ]
  },
  {
   "cell_type": "markdown",
   "id": "fb337874",
   "metadata": {},
   "source": [
    "## 1. Listen to status codes\n",
    "The status code will tell you if your API calls are successful, and whether you crashed a server.\n",
    "\n",
    "Intervene as necessary. Also place periodic sleeps."
   ]
  },
  {
   "cell_type": "markdown",
   "id": "8aaff55c",
   "metadata": {},
   "source": [
    "## 2. Spotcheck\n",
    "\n",
    "Open the JSON and make sure it looks like what you expect."
   ]
  },
  {
   "cell_type": "markdown",
   "id": "97890ca4",
   "metadata": {},
   "source": [
    "## 3. Check for known keys\n",
    "\n",
    "Programmatically check if the `key` you're expecting is present."
   ]
  },
  {
   "cell_type": "markdown",
   "id": "4775d4e6",
   "metadata": {},
   "source": [
    "# General notes"
   ]
  },
  {
   "cell_type": "markdown",
   "id": "14e9af65",
   "metadata": {},
   "source": [
    "## Summarize the data\n",
    "Check the number of rows per day. This is similar to a dashboard"
   ]
  },
  {
   "cell_type": "markdown",
   "id": "366bf065",
   "metadata": {},
   "source": [
    "## Catch and handle expections\n",
    "\n",
    "Monitor the scraper to known issues. Determine automated answers to those issues.\n",
    "\n",
    "Have you used `try` and `except` phrases in Python? Read more about that [here](https://pythonbasics.org/try-except/)."
   ]
  },
  {
   "cell_type": "code",
   "execution_count": 10,
   "id": "423f5c67",
   "metadata": {},
   "outputs": [
    {
     "name": "stdout",
     "output_type": "stream",
     "text": [
      "Wrong \n"
     ]
    }
   ],
   "source": [
    "try:\n",
    "    assert(2 == 3)\n",
    "except Exception as e:\n",
    "    print(f\"Wrong {e}\")"
   ]
  },
  {
   "cell_type": "markdown",
   "id": "b5c2ec66",
   "metadata": {},
   "source": [
    "## Keep a log\n",
    "\n",
    "Get familiar with a [log file](https://realpython.com/python-logging/). This is basically a place to store `print` statements.\n",
    "Read more here.\n",
    "\n",
    "For a quick version: check the last time a directory was modified."
   ]
  },
  {
   "cell_type": "markdown",
   "id": "7eeaf646-ab65-4501-91c0-a32298b8c697",
   "metadata": {},
   "source": [
    "# How to productionalize web scrapers\n",
    "\n",
    "Based on this [presentation](https://docs.google.com/presentation/d/1K5ttTgP1f6ghL06kj6QqyqsGccU_Ttxh1otdx5wWYGo/edit#slide=id.p) with Jeff Kao (ProPublica) and Ilica Mahajan (TMP)\n",
    "\n",
    "## 1. Don't repeat work\n",
    "The scraper output will be massive. Name it so you understand what and when you scraped.\\\n",
    "Structured naming system for outputs that includes descriptive name and dates of when it was produced.\\\n",
    "Make the scraper first check if it exists the information already has been scraped exist before scraping again.\n",
    "\n",
    "## 2. Keep receipts\n",
    "Save the timestamp (when data was collected) and the raw data.\\\n",
    "Every time I collect data I include a timestamp somewhere.\\\n",
    "If JSON, create a key with the timestamp.\\\n",
    "If HTML, you can get fancy, injecting the timestamp as an element’s attribute in the HTML.\n",
    "\n",
    "I view data collection as getting FOIAs.\\\n",
    "You organize FOIAs by reference number, timestamps…\\\n",
    "You might publish or share the data. You will  need to show when you got it.\n",
    "\n",
    "## 3. Break up the work. Make the scraper as simple as possible.\n",
    "Makes it easy to find and handle errors. For example, a scraper handles one city in Zillow.\\\n",
    "Paginate, save results. That's all...\\\n",
    "Another scraper takes the saved HTML, and parses it and inserts it into a database.\n",
    "\n",
    "## 4. Keep a schedule.\n",
    "Use `cron` to schedule jobs locally. For example, cron allows an hourly job or one that runs every day at 4:30pm.\\\n",
    "You can download it to your machine.\\\n",
    "Other tools exist to do this on the cloud.\n",
    "\n",
    "When you run things on cron, you must specify the environment.\n",
    "\n",
    "Cron is best when run in local machines. You can run it on the cloud, but you’re paying for time. But with cron you want to run only a certain time a day. Waste of money.\n",
    "He has a PC at home that is on all the time, running cron jobs. So cron is best for local machines that you can control. When you use the cloud, you pay for time. You only want the machine up when you are using it.\n",
    "\n",
    "## 5. Keep tabs on inputs with a TODO list.\n",
    "Use a CSV if you know what you want.\\\n",
    "Use AWS SQS, or AWS Simple Queuing System (similar to a commercial kitchen's ticket system). It's very simple and cheap. My fave! He uses it both for local and cloud scrapers.\n",
    "\n",
    "## 6. Can you scale up?\n",
    "If scrapers are simple, it's easy to parallelize them.\\\n",
    "If local: use async computing or `Multiprocessing`. (More on this below)\n",
    "\n",
    "## Miscelaneous\n",
    "When you are using Selenium or Playwright, and you are ready to go into production, switch to headless mode to optimize resources.\n",
    "Non headless browser is useful to develop and debug, but not for processing. \n",
    "\n",
    "He still has not used much Playwright. He said he thinks it is asynchronous by default. That should speed things up.\n",
    "\n",
    "And as we have seen, always look first for APIs, before BA.\n",
    "\n",
    "Selenium is a framework (a car). Chrome driver is the engine. Makes Selenium move.\n",
    "Selenium also uses Firefox  and  Gecko. I used to use Gecko, but switched to Chrome and Chromium as engines because they are a bit easier to install. But you can use others.\n",
    "\n",
    "Chromium drives many drivers: Chrome, Safari, Opera & Brave, among others.\n"
   ]
  },
  {
   "cell_type": "markdown",
   "id": "5fdb3bb4",
   "metadata": {},
   "source": [
    "# Tools he uses every day\n",
    "- `cron`: schedule scripts and scrapers on a local machine.\n",
    "- [`htop`](https://htop.dev/): A command line package to view your computer's resources. For example, how many CPUs are being used and how much memory is used. Good to know if your computer may crash. If you are multiprocessing, you can see how many processes you can handle.\\\n",
    "Needs to be installed with HomeBrew\n",
    "- multiprocessing"
   ]
  },
  {
   "cell_type": "markdown",
   "id": "866cd903",
   "metadata": {},
   "source": [
    "### Multiprocessing\n",
    "Check this [gist](https://gist.github.com/yinleon/8b7555afbbeed47e439dbd2364b8d404). It has snippets for when you need to read many files into one dataframe, and for when you have a large dataframe and you need to perform an apply function."
   ]
  },
  {
   "cell_type": "markdown",
   "id": "388294a3-a229-4bb6-bd58-17d86a869380",
   "metadata": {},
   "source": [
    "The following multiprocessing snippet uses 8 CPUs. He ran it while having `htop` open in terminal, so we could see how much resources each CPU was using."
   ]
  },
  {
   "cell_type": "markdown",
   "id": "78d814a4-b095-429f-b78e-fa5b892acd3a",
   "metadata": {},
   "source": [
    "import time\n",
    "from multiprocessing import Pool"
   ]
  },
  {
   "cell_type": "code",
   "execution_count": 31,
   "id": "6262015d",
   "metadata": {},
   "outputs": [],
   "source": [
    "def example_function(n):\n",
    "    \"\"\"Sleeps for 5 seconds with an arbitrary input\"\"\"\n",
    "    time.sleep(5)\n",
    "#     print(n)\n",
    "    return 1"
   ]
  },
  {
   "cell_type": "code",
   "execution_count": 32,
   "id": "caf23ee5",
   "metadata": {},
   "outputs": [],
   "source": [
    "ex_inputs = list(range(3000))"
   ]
  },
  {
   "cell_type": "code",
   "execution_count": 34,
   "id": "f8279b0a",
   "metadata": {},
   "outputs": [
    {
     "name": "stderr",
     "output_type": "stream",
     "text": [
      "3000it [02:30, 19.99it/s]\n"
     ]
    }
   ],
   "source": [
    "data = []\n",
    "with Pool(processes=100) as pool:\n",
    "    for record in tqdm(pool.imap_unordered(example_function, ex_inputs)):\n",
    "        data.append(record)"
   ]
  },
  {
   "cell_type": "markdown",
   "id": "02663b19",
   "metadata": {},
   "source": [
    "Notice that order doesn't matter here"
   ]
  },
  {
   "cell_type": "markdown",
   "id": "b265f497",
   "metadata": {},
   "source": [
    "## TQDM\n",
    "A useful status bar"
   ]
  },
  {
   "cell_type": "code",
   "execution_count": 25,
   "id": "93d26a34",
   "metadata": {},
   "outputs": [],
   "source": [
    "from tqdm import tqdm"
   ]
  },
  {
   "cell_type": "code",
   "execution_count": 30,
   "id": "8ecc4661",
   "metadata": {},
   "outputs": [
    {
     "name": "stderr",
     "output_type": "stream",
     "text": [
      "  3%|▎         | 1/30 [00:05<02:25,  5.00s/it]"
     ]
    },
    {
     "name": "stdout",
     "output_type": "stream",
     "text": [
      "0\n"
     ]
    },
    {
     "name": "stderr",
     "output_type": "stream",
     "text": [
      "  7%|▋         | 2/30 [00:10<02:20,  5.00s/it]"
     ]
    },
    {
     "name": "stdout",
     "output_type": "stream",
     "text": [
      "1\n"
     ]
    },
    {
     "name": "stderr",
     "output_type": "stream",
     "text": [
      " 10%|█         | 3/30 [00:15<02:15,  5.00s/it]"
     ]
    },
    {
     "name": "stdout",
     "output_type": "stream",
     "text": [
      "2\n"
     ]
    },
    {
     "name": "stderr",
     "output_type": "stream",
     "text": [
      " 13%|█▎        | 4/30 [00:20<02:10,  5.01s/it]"
     ]
    },
    {
     "name": "stdout",
     "output_type": "stream",
     "text": [
      "3\n"
     ]
    },
    {
     "name": "stderr",
     "output_type": "stream",
     "text": [
      " 17%|█▋        | 5/30 [00:25<02:05,  5.01s/it]"
     ]
    },
    {
     "name": "stdout",
     "output_type": "stream",
     "text": [
      "4\n"
     ]
    },
    {
     "name": "stderr",
     "output_type": "stream",
     "text": [
      " 20%|██        | 6/30 [00:30<02:00,  5.01s/it]"
     ]
    },
    {
     "name": "stdout",
     "output_type": "stream",
     "text": [
      "5\n"
     ]
    },
    {
     "name": "stderr",
     "output_type": "stream",
     "text": [
      " 23%|██▎       | 7/30 [00:35<01:55,  5.00s/it]"
     ]
    },
    {
     "name": "stdout",
     "output_type": "stream",
     "text": [
      "6\n"
     ]
    },
    {
     "name": "stderr",
     "output_type": "stream",
     "text": [
      " 27%|██▋       | 8/30 [00:40<01:50,  5.01s/it]"
     ]
    },
    {
     "name": "stdout",
     "output_type": "stream",
     "text": [
      "7\n"
     ]
    },
    {
     "name": "stderr",
     "output_type": "stream",
     "text": [
      " 30%|███       | 9/30 [00:45<01:45,  5.01s/it]"
     ]
    },
    {
     "name": "stdout",
     "output_type": "stream",
     "text": [
      "8\n"
     ]
    },
    {
     "name": "stderr",
     "output_type": "stream",
     "text": [
      " 33%|███▎      | 10/30 [00:50<01:40,  5.01s/it]"
     ]
    },
    {
     "name": "stdout",
     "output_type": "stream",
     "text": [
      "9\n"
     ]
    },
    {
     "name": "stderr",
     "output_type": "stream",
     "text": [
      " 37%|███▋      | 11/30 [00:55<01:35,  5.01s/it]"
     ]
    },
    {
     "name": "stdout",
     "output_type": "stream",
     "text": [
      "10\n"
     ]
    },
    {
     "name": "stderr",
     "output_type": "stream",
     "text": [
      " 40%|████      | 12/30 [01:00<01:30,  5.00s/it]"
     ]
    },
    {
     "name": "stdout",
     "output_type": "stream",
     "text": [
      "11\n"
     ]
    },
    {
     "name": "stderr",
     "output_type": "stream",
     "text": [
      " 40%|████      | 12/30 [01:03<01:34,  5.28s/it]\n"
     ]
    },
    {
     "ename": "KeyboardInterrupt",
     "evalue": "",
     "output_type": "error",
     "traceback": [
      "\u001b[0;31m---------------------------------------------------------------------------\u001b[0m",
      "\u001b[0;31mKeyboardInterrupt\u001b[0m                         Traceback (most recent call last)",
      "\u001b[0;32m<ipython-input-30-1c30f832b4b2>\u001b[0m in \u001b[0;36m<module>\u001b[0;34m\u001b[0m\n\u001b[1;32m      2\u001b[0m \u001b[0;34m\u001b[0m\u001b[0m\n\u001b[1;32m      3\u001b[0m \u001b[0;32mfor\u001b[0m \u001b[0mi\u001b[0m \u001b[0;32min\u001b[0m \u001b[0mtqdm\u001b[0m\u001b[0;34m(\u001b[0m\u001b[0mex_inputs\u001b[0m\u001b[0;34m)\u001b[0m\u001b[0;34m:\u001b[0m\u001b[0;34m\u001b[0m\u001b[0;34m\u001b[0m\u001b[0m\n\u001b[0;32m----> 4\u001b[0;31m     \u001b[0mexample_function\u001b[0m\u001b[0;34m(\u001b[0m\u001b[0mi\u001b[0m\u001b[0;34m)\u001b[0m\u001b[0;34m\u001b[0m\u001b[0;34m\u001b[0m\u001b[0m\n\u001b[0m\u001b[1;32m      5\u001b[0m     \u001b[0;32mpass\u001b[0m\u001b[0;34m\u001b[0m\u001b[0;34m\u001b[0m\u001b[0m\n",
      "\u001b[0;32m<ipython-input-29-20f995a85164>\u001b[0m in \u001b[0;36mexample_function\u001b[0;34m(n)\u001b[0m\n\u001b[1;32m      1\u001b[0m \u001b[0;32mdef\u001b[0m \u001b[0mexample_function\u001b[0m\u001b[0;34m(\u001b[0m\u001b[0mn\u001b[0m\u001b[0;34m)\u001b[0m\u001b[0;34m:\u001b[0m\u001b[0;34m\u001b[0m\u001b[0;34m\u001b[0m\u001b[0m\n\u001b[1;32m      2\u001b[0m     \u001b[0;34m\"\"\"Sleeps for 5 seconds with an arbitrary input\"\"\"\u001b[0m\u001b[0;34m\u001b[0m\u001b[0;34m\u001b[0m\u001b[0m\n\u001b[0;32m----> 3\u001b[0;31m     \u001b[0mtime\u001b[0m\u001b[0;34m.\u001b[0m\u001b[0msleep\u001b[0m\u001b[0;34m(\u001b[0m\u001b[0;36m5\u001b[0m\u001b[0;34m)\u001b[0m\u001b[0;34m\u001b[0m\u001b[0;34m\u001b[0m\u001b[0m\n\u001b[0m\u001b[1;32m      4\u001b[0m     \u001b[0mprint\u001b[0m\u001b[0;34m(\u001b[0m\u001b[0mn\u001b[0m\u001b[0;34m)\u001b[0m\u001b[0;34m\u001b[0m\u001b[0;34m\u001b[0m\u001b[0m\n\u001b[1;32m      5\u001b[0m     \u001b[0;32mreturn\u001b[0m \u001b[0;36m1\u001b[0m\u001b[0;34m\u001b[0m\u001b[0;34m\u001b[0m\u001b[0m\n",
      "\u001b[0;31mKeyboardInterrupt\u001b[0m: "
     ]
    }
   ],
   "source": [
    "ex_inputs = list(range(30))\n",
    "\n",
    "for i in tqdm(ex_inputs):\n",
    "    example_function(i)\n",
    "    pass"
   ]
  },
  {
   "cell_type": "code",
   "execution_count": null,
   "id": "bd703ba8",
   "metadata": {},
   "outputs": [],
   "source": [
    "for i in ex_inputs:\n",
    "    example_function(i)"
   ]
  },
  {
   "cell_type": "code",
   "execution_count": null,
   "id": "01aad9b0",
   "metadata": {},
   "outputs": [],
   "source": [
    " "
   ]
  }
 ],
 "metadata": {
  "kernelspec": {
   "display_name": "Python 3 (ipykernel)",
   "language": "python",
   "name": "python3"
  },
  "language_info": {
   "codemirror_mode": {
    "name": "ipython",
    "version": 3
   },
   "file_extension": ".py",
   "mimetype": "text/x-python",
   "name": "python",
   "nbconvert_exporter": "python",
   "pygments_lexer": "ipython3",
   "version": "3.11.7"
  }
 },
 "nbformat": 4,
 "nbformat_minor": 5
}
